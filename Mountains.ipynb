{
 "cells": [
  {
   "cell_type": "markdown",
   "id": "914c7e3a-070d-49ef-bf03-affffe4ab2ba",
   "metadata": {},
   "source": [
    "# Questions to answer\n",
    "\n",
    "- Which are the most difficult mountains to climb?\n",
    "- What were the most popular years for climbing?\n",
    "- Are taller mountains more difficult to climb?\n",
    "- Are mountains over 8000m more popular for climbing?\n",
    "- Which mountain ranges contain the highest mountains?"
   ]
  },
  {
   "cell_type": "code",
   "execution_count": 1,
   "id": "53e810aa-f880-4502-a9b0-61d9a4f06e00",
   "metadata": {},
   "outputs": [],
   "source": [
    "import pandas as pd\n",
    "\n",
    "# This is the magic command that we have introduced in the previous subject. It ensures\n",
    "# that our plots will be displayed directly inside the notebook.\n",
    "\n",
    "\n",
    "import matplotlib.pyplot as plt \n",
    "%matplotlib inline  "
   ]
  },
  {
   "cell_type": "code",
   "execution_count": 2,
   "id": "a76db124-30c0-4cb1-a57d-d97aa28214e3",
   "metadata": {},
   "outputs": [],
   "source": [
    "df = pd.read_csv(\"mountains.csv\")"
   ]
  },
  {
   "cell_type": "code",
   "execution_count": 3,
   "id": "4bffb056-50cf-4de4-ab40-cf2ba824ea82",
   "metadata": {},
   "outputs": [
    {
     "data": {
      "text/html": [
       "<div>\n",
       "<style scoped>\n",
       "    .dataframe tbody tr th:only-of-type {\n",
       "        vertical-align: middle;\n",
       "    }\n",
       "\n",
       "    .dataframe tbody tr th {\n",
       "        vertical-align: top;\n",
       "    }\n",
       "\n",
       "    .dataframe thead th {\n",
       "        text-align: right;\n",
       "    }\n",
       "</style>\n",
       "<table border=\"1\" class=\"dataframe\">\n",
       "  <thead>\n",
       "    <tr style=\"text-align: right;\">\n",
       "      <th></th>\n",
       "      <th>Rank</th>\n",
       "      <th>Mountain</th>\n",
       "      <th>Height (m)</th>\n",
       "      <th>Height (ft)</th>\n",
       "      <th>Prominence (m)</th>\n",
       "      <th>Range</th>\n",
       "      <th>Coordinates</th>\n",
       "      <th>Parent mountain</th>\n",
       "      <th>First ascent</th>\n",
       "      <th>Ascents bef. 2004</th>\n",
       "      <th>Failed attempts bef. 2004</th>\n",
       "    </tr>\n",
       "  </thead>\n",
       "  <tbody>\n",
       "    <tr>\n",
       "      <th>0</th>\n",
       "      <td>1</td>\n",
       "      <td>Mount Everest / Sagarmatha / Chomolungma</td>\n",
       "      <td>8848</td>\n",
       "      <td>29029</td>\n",
       "      <td>8848</td>\n",
       "      <td>Mahalangur Himalaya</td>\n",
       "      <td>27°59′17″N 86°55′31″E﻿</td>\n",
       "      <td>NaN</td>\n",
       "      <td>1953</td>\n",
       "      <td>&gt;&gt;145</td>\n",
       "      <td>121.0</td>\n",
       "    </tr>\n",
       "    <tr>\n",
       "      <th>1</th>\n",
       "      <td>2</td>\n",
       "      <td>K2 / Qogir / Godwin Austen</td>\n",
       "      <td>8611</td>\n",
       "      <td>28251</td>\n",
       "      <td>4017</td>\n",
       "      <td>Baltoro Karakoram</td>\n",
       "      <td>35°52′53″N 76°30′48″E﻿</td>\n",
       "      <td>Mount Everest</td>\n",
       "      <td>1954</td>\n",
       "      <td>45</td>\n",
       "      <td>44.0</td>\n",
       "    </tr>\n",
       "    <tr>\n",
       "      <th>2</th>\n",
       "      <td>3</td>\n",
       "      <td>Kangchenjunga</td>\n",
       "      <td>8586</td>\n",
       "      <td>28169</td>\n",
       "      <td>3922</td>\n",
       "      <td>Kangchenjunga Himalaya</td>\n",
       "      <td>27°42′12″N 88°08′51″E﻿</td>\n",
       "      <td>Mount Everest</td>\n",
       "      <td>1955</td>\n",
       "      <td>38</td>\n",
       "      <td>24.0</td>\n",
       "    </tr>\n",
       "    <tr>\n",
       "      <th>3</th>\n",
       "      <td>4</td>\n",
       "      <td>Lhotse</td>\n",
       "      <td>8516</td>\n",
       "      <td>27940</td>\n",
       "      <td>610</td>\n",
       "      <td>Mahalangur Himalaya</td>\n",
       "      <td>27°57′42″N 86°55′59″E﻿</td>\n",
       "      <td>Mount Everest</td>\n",
       "      <td>1956</td>\n",
       "      <td>26</td>\n",
       "      <td>26.0</td>\n",
       "    </tr>\n",
       "    <tr>\n",
       "      <th>4</th>\n",
       "      <td>5</td>\n",
       "      <td>Makalu</td>\n",
       "      <td>8485</td>\n",
       "      <td>27838</td>\n",
       "      <td>2386</td>\n",
       "      <td>Mahalangur Himalaya</td>\n",
       "      <td>27°53′23″N 87°05′20″E﻿</td>\n",
       "      <td>Mount Everest</td>\n",
       "      <td>1955</td>\n",
       "      <td>45</td>\n",
       "      <td>52.0</td>\n",
       "    </tr>\n",
       "  </tbody>\n",
       "</table>\n",
       "</div>"
      ],
      "text/plain": [
       "   Rank                                  Mountain  Height (m)  Height (ft)  \\\n",
       "0     1  Mount Everest / Sagarmatha / Chomolungma        8848        29029   \n",
       "1     2                K2 / Qogir / Godwin Austen        8611        28251   \n",
       "2     3                             Kangchenjunga        8586        28169   \n",
       "3     4                                    Lhotse        8516        27940   \n",
       "4     5                                    Makalu        8485        27838   \n",
       "\n",
       "   Prominence (m)                   Range              Coordinates  \\\n",
       "0            8848     Mahalangur Himalaya  27°59′17″N 86°55′31″E﻿    \n",
       "1            4017       Baltoro Karakoram  35°52′53″N 76°30′48″E﻿    \n",
       "2            3922  Kangchenjunga Himalaya  27°42′12″N 88°08′51″E﻿    \n",
       "3             610     Mahalangur Himalaya  27°57′42″N 86°55′59″E﻿    \n",
       "4            2386     Mahalangur Himalaya  27°53′23″N 87°05′20″E﻿    \n",
       "\n",
       "  Parent mountain First ascent Ascents bef. 2004  Failed attempts bef. 2004  \n",
       "0             NaN         1953            >>145                       121.0  \n",
       "1   Mount Everest         1954                45                       44.0  \n",
       "2   Mount Everest         1955                38                       24.0  \n",
       "3   Mount Everest         1956                26                       26.0  \n",
       "4   Mount Everest         1955                45                       52.0  "
      ]
     },
     "execution_count": 3,
     "metadata": {},
     "output_type": "execute_result"
    }
   ],
   "source": [
    "df.head(5)"
   ]
  },
  {
   "cell_type": "code",
   "execution_count": 4,
   "id": "d7d45c63-e06d-4fcc-b480-ff33d3748203",
   "metadata": {},
   "outputs": [
    {
     "name": "stdout",
     "output_type": "stream",
     "text": [
      "<class 'pandas.core.frame.DataFrame'>\n",
      "RangeIndex: 118 entries, 0 to 117\n",
      "Data columns (total 11 columns):\n",
      " #   Column                     Non-Null Count  Dtype  \n",
      "---  ------                     --------------  -----  \n",
      " 0   Rank                       118 non-null    int64  \n",
      " 1   Mountain                   118 non-null    object \n",
      " 2   Height (m)                 118 non-null    int64  \n",
      " 3   Height (ft)                118 non-null    int64  \n",
      " 4   Prominence (m)             118 non-null    int64  \n",
      " 5   Range                      118 non-null    object \n",
      " 6   Coordinates                118 non-null    object \n",
      " 7   Parent mountain            117 non-null    object \n",
      " 8   First ascent               118 non-null    object \n",
      " 9   Ascents bef. 2004          116 non-null    object \n",
      " 10  Failed attempts bef. 2004  115 non-null    float64\n",
      "dtypes: float64(1), int64(4), object(6)\n",
      "memory usage: 10.3+ KB\n"
     ]
    }
   ],
   "source": [
    "df.info()"
   ]
  },
  {
   "cell_type": "code",
   "execution_count": 5,
   "id": "22d9c589-e033-413d-b802-5c5b8be5b9d0",
   "metadata": {},
   "outputs": [
    {
     "data": {
      "text/plain": [
       "Rank                           int64\n",
       "Mountain                      object\n",
       "Height (m)                     int64\n",
       "Height (ft)                    int64\n",
       "Prominence (m)                 int64\n",
       "Range                         object\n",
       "Coordinates                   object\n",
       "Parent mountain               object\n",
       "First ascent                  object\n",
       "Ascents bef. 2004             object\n",
       "Failed attempts bef. 2004    float64\n",
       "dtype: object"
      ]
     },
     "execution_count": 5,
     "metadata": {},
     "output_type": "execute_result"
    }
   ],
   "source": [
    "df.dtypes # () not required"
   ]
  },
  {
   "cell_type": "code",
   "execution_count": 6,
   "id": "10d76f4d-b383-41c4-a4d3-9a3456206150",
   "metadata": {},
   "outputs": [
    {
     "data": {
      "text/html": [
       "<div>\n",
       "<style scoped>\n",
       "    .dataframe tbody tr th:only-of-type {\n",
       "        vertical-align: middle;\n",
       "    }\n",
       "\n",
       "    .dataframe tbody tr th {\n",
       "        vertical-align: top;\n",
       "    }\n",
       "\n",
       "    .dataframe thead th {\n",
       "        text-align: right;\n",
       "    }\n",
       "</style>\n",
       "<table border=\"1\" class=\"dataframe\">\n",
       "  <thead>\n",
       "    <tr style=\"text-align: right;\">\n",
       "      <th></th>\n",
       "      <th>Rank</th>\n",
       "      <th>Height (m)</th>\n",
       "      <th>Height (ft)</th>\n",
       "      <th>Prominence (m)</th>\n",
       "      <th>Failed attempts bef. 2004</th>\n",
       "    </tr>\n",
       "  </thead>\n",
       "  <tbody>\n",
       "    <tr>\n",
       "      <th>count</th>\n",
       "      <td>118.000000</td>\n",
       "      <td>118.000000</td>\n",
       "      <td>118.000000</td>\n",
       "      <td>118.000000</td>\n",
       "      <td>115.000000</td>\n",
       "    </tr>\n",
       "    <tr>\n",
       "      <th>mean</th>\n",
       "      <td>59.500000</td>\n",
       "      <td>7578.042373</td>\n",
       "      <td>24862.364407</td>\n",
       "      <td>1671.567797</td>\n",
       "      <td>8.400000</td>\n",
       "    </tr>\n",
       "    <tr>\n",
       "      <th>std</th>\n",
       "      <td>34.207699</td>\n",
       "      <td>341.471211</td>\n",
       "      <td>1120.311905</td>\n",
       "      <td>1234.813419</td>\n",
       "      <td>15.782958</td>\n",
       "    </tr>\n",
       "    <tr>\n",
       "      <th>min</th>\n",
       "      <td>1.000000</td>\n",
       "      <td>7200.000000</td>\n",
       "      <td>23622.000000</td>\n",
       "      <td>217.000000</td>\n",
       "      <td>0.000000</td>\n",
       "    </tr>\n",
       "    <tr>\n",
       "      <th>25%</th>\n",
       "      <td>30.250000</td>\n",
       "      <td>7316.500000</td>\n",
       "      <td>24004.000000</td>\n",
       "      <td>712.750000</td>\n",
       "      <td>1.000000</td>\n",
       "    </tr>\n",
       "    <tr>\n",
       "      <th>50%</th>\n",
       "      <td>59.500000</td>\n",
       "      <td>7472.500000</td>\n",
       "      <td>24516.500000</td>\n",
       "      <td>1332.500000</td>\n",
       "      <td>3.000000</td>\n",
       "    </tr>\n",
       "    <tr>\n",
       "      <th>75%</th>\n",
       "      <td>88.750000</td>\n",
       "      <td>7775.500000</td>\n",
       "      <td>25509.750000</td>\n",
       "      <td>2297.250000</td>\n",
       "      <td>11.000000</td>\n",
       "    </tr>\n",
       "    <tr>\n",
       "      <th>max</th>\n",
       "      <td>118.000000</td>\n",
       "      <td>8848.000000</td>\n",
       "      <td>29029.000000</td>\n",
       "      <td>8848.000000</td>\n",
       "      <td>121.000000</td>\n",
       "    </tr>\n",
       "  </tbody>\n",
       "</table>\n",
       "</div>"
      ],
      "text/plain": [
       "             Rank   Height (m)   Height (ft)  Prominence (m)  \\\n",
       "count  118.000000   118.000000    118.000000      118.000000   \n",
       "mean    59.500000  7578.042373  24862.364407     1671.567797   \n",
       "std     34.207699   341.471211   1120.311905     1234.813419   \n",
       "min      1.000000  7200.000000  23622.000000      217.000000   \n",
       "25%     30.250000  7316.500000  24004.000000      712.750000   \n",
       "50%     59.500000  7472.500000  24516.500000     1332.500000   \n",
       "75%     88.750000  7775.500000  25509.750000     2297.250000   \n",
       "max    118.000000  8848.000000  29029.000000     8848.000000   \n",
       "\n",
       "       Failed attempts bef. 2004  \n",
       "count                 115.000000  \n",
       "mean                    8.400000  \n",
       "std                    15.782958  \n",
       "min                     0.000000  \n",
       "25%                     1.000000  \n",
       "50%                     3.000000  \n",
       "75%                    11.000000  \n",
       "max                   121.000000  "
      ]
     },
     "execution_count": 6,
     "metadata": {},
     "output_type": "execute_result"
    }
   ],
   "source": [
    "df.describe()"
   ]
  },
  {
   "cell_type": "code",
   "execution_count": 7,
   "id": "66320c4c-cb9f-4ceb-98ae-657bd0da5cea",
   "metadata": {},
   "outputs": [],
   "source": [
    "df.set_index(\"Mountain\", inplace=True)"
   ]
  },
  {
   "cell_type": "code",
   "execution_count": 8,
   "id": "240a4644-0216-455c-8e5b-ca480adaebb3",
   "metadata": {},
   "outputs": [
    {
     "data": {
      "text/html": [
       "<div>\n",
       "<style scoped>\n",
       "    .dataframe tbody tr th:only-of-type {\n",
       "        vertical-align: middle;\n",
       "    }\n",
       "\n",
       "    .dataframe tbody tr th {\n",
       "        vertical-align: top;\n",
       "    }\n",
       "\n",
       "    .dataframe thead th {\n",
       "        text-align: right;\n",
       "    }\n",
       "</style>\n",
       "<table border=\"1\" class=\"dataframe\">\n",
       "  <thead>\n",
       "    <tr style=\"text-align: right;\">\n",
       "      <th></th>\n",
       "      <th>Rank</th>\n",
       "      <th>Height (m)</th>\n",
       "      <th>Height (ft)</th>\n",
       "      <th>Prominence (m)</th>\n",
       "      <th>Range</th>\n",
       "      <th>Coordinates</th>\n",
       "      <th>Parent mountain</th>\n",
       "      <th>First ascent</th>\n",
       "      <th>Ascents bef. 2004</th>\n",
       "      <th>Failed attempts bef. 2004</th>\n",
       "    </tr>\n",
       "    <tr>\n",
       "      <th>Mountain</th>\n",
       "      <th></th>\n",
       "      <th></th>\n",
       "      <th></th>\n",
       "      <th></th>\n",
       "      <th></th>\n",
       "      <th></th>\n",
       "      <th></th>\n",
       "      <th></th>\n",
       "      <th></th>\n",
       "      <th></th>\n",
       "    </tr>\n",
       "  </thead>\n",
       "  <tbody>\n",
       "    <tr>\n",
       "      <th>Mount Everest / Sagarmatha / Chomolungma</th>\n",
       "      <td>1</td>\n",
       "      <td>8848</td>\n",
       "      <td>29029</td>\n",
       "      <td>8848</td>\n",
       "      <td>Mahalangur Himalaya</td>\n",
       "      <td>27°59′17″N 86°55′31″E﻿</td>\n",
       "      <td>NaN</td>\n",
       "      <td>1953</td>\n",
       "      <td>&gt;&gt;145</td>\n",
       "      <td>121.0</td>\n",
       "    </tr>\n",
       "    <tr>\n",
       "      <th>K2 / Qogir / Godwin Austen</th>\n",
       "      <td>2</td>\n",
       "      <td>8611</td>\n",
       "      <td>28251</td>\n",
       "      <td>4017</td>\n",
       "      <td>Baltoro Karakoram</td>\n",
       "      <td>35°52′53″N 76°30′48″E﻿</td>\n",
       "      <td>Mount Everest</td>\n",
       "      <td>1954</td>\n",
       "      <td>45</td>\n",
       "      <td>44.0</td>\n",
       "    </tr>\n",
       "    <tr>\n",
       "      <th>Kangchenjunga</th>\n",
       "      <td>3</td>\n",
       "      <td>8586</td>\n",
       "      <td>28169</td>\n",
       "      <td>3922</td>\n",
       "      <td>Kangchenjunga Himalaya</td>\n",
       "      <td>27°42′12″N 88°08′51″E﻿</td>\n",
       "      <td>Mount Everest</td>\n",
       "      <td>1955</td>\n",
       "      <td>38</td>\n",
       "      <td>24.0</td>\n",
       "    </tr>\n",
       "    <tr>\n",
       "      <th>Lhotse</th>\n",
       "      <td>4</td>\n",
       "      <td>8516</td>\n",
       "      <td>27940</td>\n",
       "      <td>610</td>\n",
       "      <td>Mahalangur Himalaya</td>\n",
       "      <td>27°57′42″N 86°55′59″E﻿</td>\n",
       "      <td>Mount Everest</td>\n",
       "      <td>1956</td>\n",
       "      <td>26</td>\n",
       "      <td>26.0</td>\n",
       "    </tr>\n",
       "    <tr>\n",
       "      <th>Makalu</th>\n",
       "      <td>5</td>\n",
       "      <td>8485</td>\n",
       "      <td>27838</td>\n",
       "      <td>2386</td>\n",
       "      <td>Mahalangur Himalaya</td>\n",
       "      <td>27°53′23″N 87°05′20″E﻿</td>\n",
       "      <td>Mount Everest</td>\n",
       "      <td>1955</td>\n",
       "      <td>45</td>\n",
       "      <td>52.0</td>\n",
       "    </tr>\n",
       "  </tbody>\n",
       "</table>\n",
       "</div>"
      ],
      "text/plain": [
       "                                          Rank  Height (m)  Height (ft)  \\\n",
       "Mountain                                                                  \n",
       "Mount Everest / Sagarmatha / Chomolungma     1        8848        29029   \n",
       "K2 / Qogir / Godwin Austen                   2        8611        28251   \n",
       "Kangchenjunga                                3        8586        28169   \n",
       "Lhotse                                       4        8516        27940   \n",
       "Makalu                                       5        8485        27838   \n",
       "\n",
       "                                          Prominence (m)  \\\n",
       "Mountain                                                   \n",
       "Mount Everest / Sagarmatha / Chomolungma            8848   \n",
       "K2 / Qogir / Godwin Austen                          4017   \n",
       "Kangchenjunga                                       3922   \n",
       "Lhotse                                               610   \n",
       "Makalu                                              2386   \n",
       "\n",
       "                                                           Range  \\\n",
       "Mountain                                                           \n",
       "Mount Everest / Sagarmatha / Chomolungma     Mahalangur Himalaya   \n",
       "K2 / Qogir / Godwin Austen                     Baltoro Karakoram   \n",
       "Kangchenjunga                             Kangchenjunga Himalaya   \n",
       "Lhotse                                       Mahalangur Himalaya   \n",
       "Makalu                                       Mahalangur Himalaya   \n",
       "\n",
       "                                                      Coordinates  \\\n",
       "Mountain                                                            \n",
       "Mount Everest / Sagarmatha / Chomolungma  27°59′17″N 86°55′31″E﻿    \n",
       "K2 / Qogir / Godwin Austen                35°52′53″N 76°30′48″E﻿    \n",
       "Kangchenjunga                             27°42′12″N 88°08′51″E﻿    \n",
       "Lhotse                                    27°57′42″N 86°55′59″E﻿    \n",
       "Makalu                                    27°53′23″N 87°05′20″E﻿    \n",
       "\n",
       "                                         Parent mountain First ascent  \\\n",
       "Mountain                                                                \n",
       "Mount Everest / Sagarmatha / Chomolungma             NaN         1953   \n",
       "K2 / Qogir / Godwin Austen                 Mount Everest         1954   \n",
       "Kangchenjunga                              Mount Everest         1955   \n",
       "Lhotse                                     Mount Everest         1956   \n",
       "Makalu                                     Mount Everest         1955   \n",
       "\n",
       "                                         Ascents bef. 2004  \\\n",
       "Mountain                                                     \n",
       "Mount Everest / Sagarmatha / Chomolungma            >>145    \n",
       "K2 / Qogir / Godwin Austen                              45   \n",
       "Kangchenjunga                                           38   \n",
       "Lhotse                                                  26   \n",
       "Makalu                                                  45   \n",
       "\n",
       "                                          Failed attempts bef. 2004  \n",
       "Mountain                                                             \n",
       "Mount Everest / Sagarmatha / Chomolungma                      121.0  \n",
       "K2 / Qogir / Godwin Austen                                     44.0  \n",
       "Kangchenjunga                                                  24.0  \n",
       "Lhotse                                                         26.0  \n",
       "Makalu                                                         52.0  "
      ]
     },
     "execution_count": 8,
     "metadata": {},
     "output_type": "execute_result"
    }
   ],
   "source": [
    "df.head(5)"
   ]
  },
  {
   "cell_type": "code",
   "execution_count": 9,
   "id": "2267bc14-cc49-4162-a7f3-f77c77912f66",
   "metadata": {},
   "outputs": [],
   "source": [
    "#Dropping column\n",
    "\n",
    "df.drop([\"Rank\", \"Height (ft)\", \"Coordinates\", \"Parent mountain\"], axis=1, inplace=True) # axis = 1 means columns"
   ]
  },
  {
   "cell_type": "code",
   "execution_count": 10,
   "id": "745333eb-66fa-4233-909b-54b0a6461959",
   "metadata": {},
   "outputs": [
    {
     "data": {
      "text/html": [
       "<div>\n",
       "<style scoped>\n",
       "    .dataframe tbody tr th:only-of-type {\n",
       "        vertical-align: middle;\n",
       "    }\n",
       "\n",
       "    .dataframe tbody tr th {\n",
       "        vertical-align: top;\n",
       "    }\n",
       "\n",
       "    .dataframe thead th {\n",
       "        text-align: right;\n",
       "    }\n",
       "</style>\n",
       "<table border=\"1\" class=\"dataframe\">\n",
       "  <thead>\n",
       "    <tr style=\"text-align: right;\">\n",
       "      <th></th>\n",
       "      <th>Height (m)</th>\n",
       "      <th>Prominence (m)</th>\n",
       "      <th>Range</th>\n",
       "      <th>First ascent</th>\n",
       "      <th>Ascents bef. 2004</th>\n",
       "      <th>Failed attempts bef. 2004</th>\n",
       "    </tr>\n",
       "    <tr>\n",
       "      <th>Mountain</th>\n",
       "      <th></th>\n",
       "      <th></th>\n",
       "      <th></th>\n",
       "      <th></th>\n",
       "      <th></th>\n",
       "      <th></th>\n",
       "    </tr>\n",
       "  </thead>\n",
       "  <tbody>\n",
       "    <tr>\n",
       "      <th>Mount Everest / Sagarmatha / Chomolungma</th>\n",
       "      <td>8848</td>\n",
       "      <td>8848</td>\n",
       "      <td>Mahalangur Himalaya</td>\n",
       "      <td>1953</td>\n",
       "      <td>&gt;&gt;145</td>\n",
       "      <td>121.0</td>\n",
       "    </tr>\n",
       "    <tr>\n",
       "      <th>K2 / Qogir / Godwin Austen</th>\n",
       "      <td>8611</td>\n",
       "      <td>4017</td>\n",
       "      <td>Baltoro Karakoram</td>\n",
       "      <td>1954</td>\n",
       "      <td>45</td>\n",
       "      <td>44.0</td>\n",
       "    </tr>\n",
       "    <tr>\n",
       "      <th>Kangchenjunga</th>\n",
       "      <td>8586</td>\n",
       "      <td>3922</td>\n",
       "      <td>Kangchenjunga Himalaya</td>\n",
       "      <td>1955</td>\n",
       "      <td>38</td>\n",
       "      <td>24.0</td>\n",
       "    </tr>\n",
       "    <tr>\n",
       "      <th>Lhotse</th>\n",
       "      <td>8516</td>\n",
       "      <td>610</td>\n",
       "      <td>Mahalangur Himalaya</td>\n",
       "      <td>1956</td>\n",
       "      <td>26</td>\n",
       "      <td>26.0</td>\n",
       "    </tr>\n",
       "    <tr>\n",
       "      <th>Makalu</th>\n",
       "      <td>8485</td>\n",
       "      <td>2386</td>\n",
       "      <td>Mahalangur Himalaya</td>\n",
       "      <td>1955</td>\n",
       "      <td>45</td>\n",
       "      <td>52.0</td>\n",
       "    </tr>\n",
       "  </tbody>\n",
       "</table>\n",
       "</div>"
      ],
      "text/plain": [
       "                                          Height (m)  Prominence (m)  \\\n",
       "Mountain                                                               \n",
       "Mount Everest / Sagarmatha / Chomolungma        8848            8848   \n",
       "K2 / Qogir / Godwin Austen                      8611            4017   \n",
       "Kangchenjunga                                   8586            3922   \n",
       "Lhotse                                          8516             610   \n",
       "Makalu                                          8485            2386   \n",
       "\n",
       "                                                           Range First ascent  \\\n",
       "Mountain                                                                        \n",
       "Mount Everest / Sagarmatha / Chomolungma     Mahalangur Himalaya         1953   \n",
       "K2 / Qogir / Godwin Austen                     Baltoro Karakoram         1954   \n",
       "Kangchenjunga                             Kangchenjunga Himalaya         1955   \n",
       "Lhotse                                       Mahalangur Himalaya         1956   \n",
       "Makalu                                       Mahalangur Himalaya         1955   \n",
       "\n",
       "                                         Ascents bef. 2004  \\\n",
       "Mountain                                                     \n",
       "Mount Everest / Sagarmatha / Chomolungma            >>145    \n",
       "K2 / Qogir / Godwin Austen                              45   \n",
       "Kangchenjunga                                           38   \n",
       "Lhotse                                                  26   \n",
       "Makalu                                                  45   \n",
       "\n",
       "                                          Failed attempts bef. 2004  \n",
       "Mountain                                                             \n",
       "Mount Everest / Sagarmatha / Chomolungma                      121.0  \n",
       "K2 / Qogir / Godwin Austen                                     44.0  \n",
       "Kangchenjunga                                                  24.0  \n",
       "Lhotse                                                         26.0  \n",
       "Makalu                                                         52.0  "
      ]
     },
     "execution_count": 10,
     "metadata": {},
     "output_type": "execute_result"
    }
   ],
   "source": [
    "df.head(5)"
   ]
  },
  {
   "cell_type": "code",
   "execution_count": 11,
   "id": "8b7a311d-7e77-4ff5-94d3-f90b60a94ca4",
   "metadata": {},
   "outputs": [
    {
     "data": {
      "text/plain": [
       "Height (m)                                         7546\n",
       "Prominence (m)                                     2735\n",
       "Range                        Muztagata (Eastern Pamirs)\n",
       "First ascent                                       1956\n",
       "Ascents bef. 2004                                  Many\n",
       "Failed attempts bef. 2004                           NaN\n",
       "Name: Muztagh Ata, dtype: object"
      ]
     },
     "execution_count": 11,
     "metadata": {},
     "output_type": "execute_result"
    }
   ],
   "source": [
    "df.loc[\"Muztagh Ata\"]"
   ]
  },
  {
   "cell_type": "code",
   "execution_count": 12,
   "id": "2297da91-1796-4ddb-b583-b9133accf9a6",
   "metadata": {},
   "outputs": [],
   "source": [
    "df.drop(\n",
    "    [\"Mount Everest / Sagarmatha / Chomolungma\", \"Muztagh Ata\"], axis = 0, inplace = True\n",
    ")"
   ]
  },
  {
   "cell_type": "code",
   "execution_count": 13,
   "id": "a287bf35-4ebc-4e76-b0b6-455ed9715c16",
   "metadata": {},
   "outputs": [
    {
     "data": {
      "text/html": [
       "<div>\n",
       "<style scoped>\n",
       "    .dataframe tbody tr th:only-of-type {\n",
       "        vertical-align: middle;\n",
       "    }\n",
       "\n",
       "    .dataframe tbody tr th {\n",
       "        vertical-align: top;\n",
       "    }\n",
       "\n",
       "    .dataframe thead th {\n",
       "        text-align: right;\n",
       "    }\n",
       "</style>\n",
       "<table border=\"1\" class=\"dataframe\">\n",
       "  <thead>\n",
       "    <tr style=\"text-align: right;\">\n",
       "      <th></th>\n",
       "      <th>Height (m)</th>\n",
       "      <th>Prominence (m)</th>\n",
       "      <th>Range</th>\n",
       "      <th>First ascent</th>\n",
       "      <th>Ascents bef. 2004</th>\n",
       "      <th>Failed attempts bef. 2004</th>\n",
       "    </tr>\n",
       "    <tr>\n",
       "      <th>Mountain</th>\n",
       "      <th></th>\n",
       "      <th></th>\n",
       "      <th></th>\n",
       "      <th></th>\n",
       "      <th></th>\n",
       "      <th></th>\n",
       "    </tr>\n",
       "  </thead>\n",
       "  <tbody>\n",
       "    <tr>\n",
       "      <th>K2 / Qogir / Godwin Austen</th>\n",
       "      <td>8611</td>\n",
       "      <td>4017</td>\n",
       "      <td>Baltoro Karakoram</td>\n",
       "      <td>1954</td>\n",
       "      <td>45</td>\n",
       "      <td>44.0</td>\n",
       "    </tr>\n",
       "    <tr>\n",
       "      <th>Kangchenjunga</th>\n",
       "      <td>8586</td>\n",
       "      <td>3922</td>\n",
       "      <td>Kangchenjunga Himalaya</td>\n",
       "      <td>1955</td>\n",
       "      <td>38</td>\n",
       "      <td>24.0</td>\n",
       "    </tr>\n",
       "    <tr>\n",
       "      <th>Lhotse</th>\n",
       "      <td>8516</td>\n",
       "      <td>610</td>\n",
       "      <td>Mahalangur Himalaya</td>\n",
       "      <td>1956</td>\n",
       "      <td>26</td>\n",
       "      <td>26.0</td>\n",
       "    </tr>\n",
       "    <tr>\n",
       "      <th>Makalu</th>\n",
       "      <td>8485</td>\n",
       "      <td>2386</td>\n",
       "      <td>Mahalangur Himalaya</td>\n",
       "      <td>1955</td>\n",
       "      <td>45</td>\n",
       "      <td>52.0</td>\n",
       "    </tr>\n",
       "    <tr>\n",
       "      <th>Cho Oyu</th>\n",
       "      <td>8188</td>\n",
       "      <td>2340</td>\n",
       "      <td>Mahalangur Himalaya</td>\n",
       "      <td>1954</td>\n",
       "      <td>79</td>\n",
       "      <td>28.0</td>\n",
       "    </tr>\n",
       "  </tbody>\n",
       "</table>\n",
       "</div>"
      ],
      "text/plain": [
       "                            Height (m)  Prominence (m)  \\\n",
       "Mountain                                                 \n",
       "K2 / Qogir / Godwin Austen        8611            4017   \n",
       "Kangchenjunga                     8586            3922   \n",
       "Lhotse                            8516             610   \n",
       "Makalu                            8485            2386   \n",
       "Cho Oyu                           8188            2340   \n",
       "\n",
       "                                             Range First ascent  \\\n",
       "Mountain                                                          \n",
       "K2 / Qogir / Godwin Austen       Baltoro Karakoram         1954   \n",
       "Kangchenjunga               Kangchenjunga Himalaya         1955   \n",
       "Lhotse                         Mahalangur Himalaya         1956   \n",
       "Makalu                         Mahalangur Himalaya         1955   \n",
       "Cho Oyu                        Mahalangur Himalaya         1954   \n",
       "\n",
       "                           Ascents bef. 2004  Failed attempts bef. 2004  \n",
       "Mountain                                                                 \n",
       "K2 / Qogir / Godwin Austen                45                       44.0  \n",
       "Kangchenjunga                             38                       24.0  \n",
       "Lhotse                                    26                       26.0  \n",
       "Makalu                                    45                       52.0  \n",
       "Cho Oyu                                   79                       28.0  "
      ]
     },
     "execution_count": 13,
     "metadata": {},
     "output_type": "execute_result"
    }
   ],
   "source": [
    "df.head(5)"
   ]
  },
  {
   "cell_type": "markdown",
   "id": "37948d6c-4ff5-4ff2-a562-152602e9384c",
   "metadata": {},
   "source": [
    "#### Selecting entries based on Boolean condition"
   ]
  },
  {
   "cell_type": "code",
   "execution_count": 14,
   "id": "1ed3ade3-c20e-4f41-81a4-51d61e187d04",
   "metadata": {},
   "outputs": [
    {
     "data": {
      "text/html": [
       "<div>\n",
       "<style scoped>\n",
       "    .dataframe tbody tr th:only-of-type {\n",
       "        vertical-align: middle;\n",
       "    }\n",
       "\n",
       "    .dataframe tbody tr th {\n",
       "        vertical-align: top;\n",
       "    }\n",
       "\n",
       "    .dataframe thead th {\n",
       "        text-align: right;\n",
       "    }\n",
       "</style>\n",
       "<table border=\"1\" class=\"dataframe\">\n",
       "  <thead>\n",
       "    <tr style=\"text-align: right;\">\n",
       "      <th></th>\n",
       "      <th>Height (m)</th>\n",
       "      <th>Prominence (m)</th>\n",
       "      <th>Range</th>\n",
       "      <th>First ascent</th>\n",
       "      <th>Ascents bef. 2004</th>\n",
       "      <th>Failed attempts bef. 2004</th>\n",
       "    </tr>\n",
       "    <tr>\n",
       "      <th>Mountain</th>\n",
       "      <th></th>\n",
       "      <th></th>\n",
       "      <th></th>\n",
       "      <th></th>\n",
       "      <th></th>\n",
       "      <th></th>\n",
       "    </tr>\n",
       "  </thead>\n",
       "  <tbody>\n",
       "    <tr>\n",
       "      <th>Gangkhar Puensum</th>\n",
       "      <td>7570</td>\n",
       "      <td>2995</td>\n",
       "      <td>Kula Kangri Himalaya</td>\n",
       "      <td>unclimbed</td>\n",
       "      <td>0</td>\n",
       "      <td>3.0</td>\n",
       "    </tr>\n",
       "    <tr>\n",
       "      <th>Labuche Kang III / East</th>\n",
       "      <td>7250</td>\n",
       "      <td>570</td>\n",
       "      <td>Labuche Himalaya</td>\n",
       "      <td>unclimbed</td>\n",
       "      <td>0</td>\n",
       "      <td>0.0</td>\n",
       "    </tr>\n",
       "    <tr>\n",
       "      <th>Karjiang</th>\n",
       "      <td>7221</td>\n",
       "      <td>880</td>\n",
       "      <td>Kula Kangri Himalaya</td>\n",
       "      <td>unclimbed</td>\n",
       "      <td>0</td>\n",
       "      <td>2.0</td>\n",
       "    </tr>\n",
       "    <tr>\n",
       "      <th>Tongshanjiabu</th>\n",
       "      <td>7207</td>\n",
       "      <td>1757</td>\n",
       "      <td>Lunana Himalaya</td>\n",
       "      <td>unclimbed</td>\n",
       "      <td>0</td>\n",
       "      <td>0.0</td>\n",
       "    </tr>\n",
       "  </tbody>\n",
       "</table>\n",
       "</div>"
      ],
      "text/plain": [
       "                         Height (m)  Prominence (m)                 Range  \\\n",
       "Mountain                                                                    \n",
       "Gangkhar Puensum               7570            2995  Kula Kangri Himalaya   \n",
       "Labuche Kang III / East        7250             570      Labuche Himalaya   \n",
       "Karjiang                       7221             880  Kula Kangri Himalaya   \n",
       "Tongshanjiabu                  7207            1757       Lunana Himalaya   \n",
       "\n",
       "                        First ascent Ascents bef. 2004  \\\n",
       "Mountain                                                 \n",
       "Gangkhar Puensum           unclimbed                 0   \n",
       "Labuche Kang III / East    unclimbed                 0   \n",
       "Karjiang                   unclimbed                 0   \n",
       "Tongshanjiabu              unclimbed                 0   \n",
       "\n",
       "                         Failed attempts bef. 2004  \n",
       "Mountain                                            \n",
       "Gangkhar Puensum                               3.0  \n",
       "Labuche Kang III / East                        0.0  \n",
       "Karjiang                                       2.0  \n",
       "Tongshanjiabu                                  0.0  "
      ]
     },
     "execution_count": 14,
     "metadata": {},
     "output_type": "execute_result"
    }
   ],
   "source": [
    "df[df[\"First ascent\"]== \"unclimbed\"]"
   ]
  },
  {
   "cell_type": "code",
   "execution_count": 15,
   "id": "ee52ccc1-030b-446f-b593-c4a8331f1e1f",
   "metadata": {},
   "outputs": [
    {
     "data": {
      "text/plain": [
       "Mountain\n",
       "K2 / Qogir / Godwin Austen      1954\n",
       "Kangchenjunga                   1955\n",
       "Lhotse                          1956\n",
       "Makalu                          1955\n",
       "Cho Oyu                         1954\n",
       "                                ... \n",
       "Noijin Kangsang / Norin Kang    1986\n",
       "Langtang Ri                     1981\n",
       "Kangphu Kang                    2002\n",
       "Singhi Kangri                   1976\n",
       "Lupghar Sar                     1979\n",
       "Name: First ascent, Length: 116, dtype: object"
      ]
     },
     "execution_count": 15,
     "metadata": {},
     "output_type": "execute_result"
    }
   ],
   "source": [
    "df[\"First ascent\"]"
   ]
  },
  {
   "cell_type": "code",
   "execution_count": 16,
   "id": "fc4165e0-5cb9-4335-b5b6-3d1297ad9495",
   "metadata": {},
   "outputs": [
    {
     "data": {
      "text/plain": [
       "Mountain\n",
       "K2 / Qogir / Godwin Austen      False\n",
       "Kangchenjunga                   False\n",
       "Lhotse                          False\n",
       "Makalu                          False\n",
       "Cho Oyu                         False\n",
       "                                ...  \n",
       "Noijin Kangsang / Norin Kang    False\n",
       "Langtang Ri                     False\n",
       "Kangphu Kang                    False\n",
       "Singhi Kangri                   False\n",
       "Lupghar Sar                     False\n",
       "Name: First ascent, Length: 116, dtype: bool"
      ]
     },
     "execution_count": 16,
     "metadata": {},
     "output_type": "execute_result"
    }
   ],
   "source": [
    "df[\"First ascent\"]== \"unclimbed\""
   ]
  },
  {
   "cell_type": "code",
   "execution_count": 17,
   "id": "2ca5a155-87d1-4a52-ab74-e23384117d57",
   "metadata": {},
   "outputs": [],
   "source": [
    "# We want only climbed mountain\n",
    "# In general when selecting a subset of a DataFrame and reassigning it to same\n",
    "# variable (or a new variable) it is a good practice to use the copy() method.\n",
    "\n",
    "df = df[df[\"First ascent\"]!= \"unclimbed\"].copy()"
   ]
  },
  {
   "cell_type": "code",
   "execution_count": 18,
   "id": "45bc23b1-d47d-4c20-a4b3-c3ad7a301782",
   "metadata": {
    "tags": []
   },
   "outputs": [
    {
     "name": "stdout",
     "output_type": "stream",
     "text": [
      "<class 'pandas.core.frame.DataFrame'>\n",
      "Index: 112 entries, K2 / Qogir / Godwin Austen to Lupghar Sar\n",
      "Data columns (total 6 columns):\n",
      " #   Column                     Non-Null Count  Dtype  \n",
      "---  ------                     --------------  -----  \n",
      " 0   Height (m)                 112 non-null    int64  \n",
      " 1   Prominence (m)             112 non-null    int64  \n",
      " 2   Range                      112 non-null    object \n",
      " 3   First ascent               112 non-null    object \n",
      " 4   Ascents bef. 2004          110 non-null    object \n",
      " 5   Failed attempts bef. 2004  110 non-null    float64\n",
      "dtypes: float64(1), int64(2), object(3)\n",
      "memory usage: 6.1+ KB\n"
     ]
    }
   ],
   "source": [
    "df.info()"
   ]
  },
  {
   "cell_type": "code",
   "execution_count": 19,
   "id": "b0ed0a68-71aa-4135-ac9e-3062e78e79d5",
   "metadata": {},
   "outputs": [
    {
     "data": {
      "text/plain": [
       "Mountain\n",
       "K2 / Qogir / Godwin Austen       True\n",
       "Kangchenjunga                    True\n",
       "Lhotse                           True\n",
       "Makalu                           True\n",
       "Cho Oyu                          True\n",
       "                                ...  \n",
       "Noijin Kangsang / Norin Kang    False\n",
       "Langtang Ri                     False\n",
       "Kangphu Kang                    False\n",
       "Singhi Kangri                   False\n",
       "Lupghar Sar                     False\n",
       "Name: Height (m), Length: 112, dtype: bool"
      ]
     },
     "execution_count": 19,
     "metadata": {},
     "output_type": "execute_result"
    }
   ],
   "source": [
    "# Look at another example - to select all mountains that are over 8000 m\n",
    "\n",
    "df[\"Height (m)\"] > 8000"
   ]
  },
  {
   "cell_type": "code",
   "execution_count": 20,
   "id": "8297a012-78f9-4428-868c-b7bafd6ede94",
   "metadata": {},
   "outputs": [
    {
     "data": {
      "text/html": [
       "<div>\n",
       "<style scoped>\n",
       "    .dataframe tbody tr th:only-of-type {\n",
       "        vertical-align: middle;\n",
       "    }\n",
       "\n",
       "    .dataframe tbody tr th {\n",
       "        vertical-align: top;\n",
       "    }\n",
       "\n",
       "    .dataframe thead th {\n",
       "        text-align: right;\n",
       "    }\n",
       "</style>\n",
       "<table border=\"1\" class=\"dataframe\">\n",
       "  <thead>\n",
       "    <tr style=\"text-align: right;\">\n",
       "      <th></th>\n",
       "      <th>Height (m)</th>\n",
       "      <th>Prominence (m)</th>\n",
       "      <th>Range</th>\n",
       "      <th>First ascent</th>\n",
       "      <th>Ascents bef. 2004</th>\n",
       "      <th>Failed attempts bef. 2004</th>\n",
       "    </tr>\n",
       "    <tr>\n",
       "      <th>Mountain</th>\n",
       "      <th></th>\n",
       "      <th></th>\n",
       "      <th></th>\n",
       "      <th></th>\n",
       "      <th></th>\n",
       "      <th></th>\n",
       "    </tr>\n",
       "  </thead>\n",
       "  <tbody>\n",
       "    <tr>\n",
       "      <th>K2 / Qogir / Godwin Austen</th>\n",
       "      <td>8611</td>\n",
       "      <td>4017</td>\n",
       "      <td>Baltoro Karakoram</td>\n",
       "      <td>1954</td>\n",
       "      <td>45</td>\n",
       "      <td>44.0</td>\n",
       "    </tr>\n",
       "    <tr>\n",
       "      <th>Kangchenjunga</th>\n",
       "      <td>8586</td>\n",
       "      <td>3922</td>\n",
       "      <td>Kangchenjunga Himalaya</td>\n",
       "      <td>1955</td>\n",
       "      <td>38</td>\n",
       "      <td>24.0</td>\n",
       "    </tr>\n",
       "    <tr>\n",
       "      <th>Lhotse</th>\n",
       "      <td>8516</td>\n",
       "      <td>610</td>\n",
       "      <td>Mahalangur Himalaya</td>\n",
       "      <td>1956</td>\n",
       "      <td>26</td>\n",
       "      <td>26.0</td>\n",
       "    </tr>\n",
       "    <tr>\n",
       "      <th>Makalu</th>\n",
       "      <td>8485</td>\n",
       "      <td>2386</td>\n",
       "      <td>Mahalangur Himalaya</td>\n",
       "      <td>1955</td>\n",
       "      <td>45</td>\n",
       "      <td>52.0</td>\n",
       "    </tr>\n",
       "    <tr>\n",
       "      <th>Cho Oyu</th>\n",
       "      <td>8188</td>\n",
       "      <td>2340</td>\n",
       "      <td>Mahalangur Himalaya</td>\n",
       "      <td>1954</td>\n",
       "      <td>79</td>\n",
       "      <td>28.0</td>\n",
       "    </tr>\n",
       "  </tbody>\n",
       "</table>\n",
       "</div>"
      ],
      "text/plain": [
       "                            Height (m)  Prominence (m)  \\\n",
       "Mountain                                                 \n",
       "K2 / Qogir / Godwin Austen        8611            4017   \n",
       "Kangchenjunga                     8586            3922   \n",
       "Lhotse                            8516             610   \n",
       "Makalu                            8485            2386   \n",
       "Cho Oyu                           8188            2340   \n",
       "\n",
       "                                             Range First ascent  \\\n",
       "Mountain                                                          \n",
       "K2 / Qogir / Godwin Austen       Baltoro Karakoram         1954   \n",
       "Kangchenjunga               Kangchenjunga Himalaya         1955   \n",
       "Lhotse                         Mahalangur Himalaya         1956   \n",
       "Makalu                         Mahalangur Himalaya         1955   \n",
       "Cho Oyu                        Mahalangur Himalaya         1954   \n",
       "\n",
       "                           Ascents bef. 2004  Failed attempts bef. 2004  \n",
       "Mountain                                                                 \n",
       "K2 / Qogir / Godwin Austen                45                       44.0  \n",
       "Kangchenjunga                             38                       24.0  \n",
       "Lhotse                                    26                       26.0  \n",
       "Makalu                                    45                       52.0  \n",
       "Cho Oyu                                   79                       28.0  "
      ]
     },
     "execution_count": 20,
     "metadata": {},
     "output_type": "execute_result"
    }
   ],
   "source": [
    "# Then select only mountains greater than 8000 m as the list\n",
    "\n",
    "df[df[\"Height (m)\"] > 8000].head()"
   ]
  },
  {
   "cell_type": "code",
   "execution_count": 21,
   "id": "b66e6c6c-459a-4ef1-8325-f588fe1ecc9a",
   "metadata": {},
   "outputs": [
    {
     "data": {
      "text/html": [
       "<div>\n",
       "<style scoped>\n",
       "    .dataframe tbody tr th:only-of-type {\n",
       "        vertical-align: middle;\n",
       "    }\n",
       "\n",
       "    .dataframe tbody tr th {\n",
       "        vertical-align: top;\n",
       "    }\n",
       "\n",
       "    .dataframe thead th {\n",
       "        text-align: right;\n",
       "    }\n",
       "</style>\n",
       "<table border=\"1\" class=\"dataframe\">\n",
       "  <thead>\n",
       "    <tr style=\"text-align: right;\">\n",
       "      <th></th>\n",
       "      <th>Height (m)</th>\n",
       "      <th>Prominence (m)</th>\n",
       "      <th>Range</th>\n",
       "      <th>First ascent</th>\n",
       "      <th>Ascents bef. 2004</th>\n",
       "      <th>Failed attempts bef. 2004</th>\n",
       "    </tr>\n",
       "    <tr>\n",
       "      <th>Mountain</th>\n",
       "      <th></th>\n",
       "      <th></th>\n",
       "      <th></th>\n",
       "      <th></th>\n",
       "      <th></th>\n",
       "      <th></th>\n",
       "    </tr>\n",
       "  </thead>\n",
       "  <tbody>\n",
       "    <tr>\n",
       "      <th>Annapurna I</th>\n",
       "      <td>8091</td>\n",
       "      <td>2984</td>\n",
       "      <td>Annapurna Himalaya</td>\n",
       "      <td>1950</td>\n",
       "      <td>36</td>\n",
       "      <td>47.0</td>\n",
       "    </tr>\n",
       "    <tr>\n",
       "      <th>Annapurna II</th>\n",
       "      <td>7937</td>\n",
       "      <td>2437</td>\n",
       "      <td>Annapurna Himalaya</td>\n",
       "      <td>1960</td>\n",
       "      <td>6</td>\n",
       "      <td>19.0</td>\n",
       "    </tr>\n",
       "    <tr>\n",
       "      <th>Annapurna III</th>\n",
       "      <td>7555</td>\n",
       "      <td>703</td>\n",
       "      <td>Annapurna Himalaya</td>\n",
       "      <td>1961</td>\n",
       "      <td>10</td>\n",
       "      <td>17.0</td>\n",
       "    </tr>\n",
       "    <tr>\n",
       "      <th>Gangapurna</th>\n",
       "      <td>7455</td>\n",
       "      <td>563</td>\n",
       "      <td>Annapurna Himalaya</td>\n",
       "      <td>1965</td>\n",
       "      <td>8</td>\n",
       "      <td>13.0</td>\n",
       "    </tr>\n",
       "    <tr>\n",
       "      <th>Annapurna Dakshin</th>\n",
       "      <td>7219</td>\n",
       "      <td>775</td>\n",
       "      <td>Annapurna Himalaya</td>\n",
       "      <td>1964</td>\n",
       "      <td>10</td>\n",
       "      <td>16.0</td>\n",
       "    </tr>\n",
       "  </tbody>\n",
       "</table>\n",
       "</div>"
      ],
      "text/plain": [
       "                   Height (m)  Prominence (m)               Range  \\\n",
       "Mountain                                                            \n",
       "Annapurna I              8091            2984  Annapurna Himalaya   \n",
       "Annapurna II             7937            2437  Annapurna Himalaya   \n",
       "Annapurna III            7555             703  Annapurna Himalaya   \n",
       "Gangapurna               7455             563  Annapurna Himalaya   \n",
       "Annapurna Dakshin        7219             775  Annapurna Himalaya   \n",
       "\n",
       "                  First ascent Ascents bef. 2004  Failed attempts bef. 2004  \n",
       "Mountain                                                                     \n",
       "Annapurna I               1950                36                       47.0  \n",
       "Annapurna II              1960                 6                       19.0  \n",
       "Annapurna III             1961                10                       17.0  \n",
       "Gangapurna                1965                 8                       13.0  \n",
       "Annapurna Dakshin         1964                10                       16.0  "
      ]
     },
     "execution_count": 21,
     "metadata": {},
     "output_type": "execute_result"
    }
   ],
   "source": [
    "# To get the mountains that are in the Annapurna Himalaya range\n",
    "\n",
    "df[df['Range'] == 'Annapurna Himalaya']"
   ]
  },
  {
   "cell_type": "code",
   "execution_count": 22,
   "id": "9563b2d4-d66b-44e8-a5fe-5c595e99f017",
   "metadata": {},
   "outputs": [
    {
     "name": "stdout",
     "output_type": "stream",
     "text": [
      "<class 'pandas.core.frame.DataFrame'>\n",
      "Index: 112 entries, K2 / Qogir / Godwin Austen to Lupghar Sar\n",
      "Data columns (total 6 columns):\n",
      " #   Column                     Non-Null Count  Dtype  \n",
      "---  ------                     --------------  -----  \n",
      " 0   Height (m)                 112 non-null    int64  \n",
      " 1   Prominence (m)             112 non-null    int64  \n",
      " 2   Range                      112 non-null    object \n",
      " 3   First ascent               112 non-null    object \n",
      " 4   Ascents bef. 2004          110 non-null    object \n",
      " 5   Failed attempts bef. 2004  110 non-null    float64\n",
      "dtypes: float64(1), int64(2), object(3)\n",
      "memory usage: 10.2+ KB\n"
     ]
    }
   ],
   "source": [
    "df.info() # There are some null records"
   ]
  },
  {
   "cell_type": "code",
   "execution_count": 23,
   "id": "5c71beae-1c20-4cea-a02d-71ebdd3519e1",
   "metadata": {},
   "outputs": [],
   "source": [
    "# Remove the records that contains null values\n",
    "\n",
    "df.dropna(inplace=True)"
   ]
  },
  {
   "cell_type": "code",
   "execution_count": 24,
   "id": "4a874bf5-00a3-430c-bafa-e2b120bab823",
   "metadata": {},
   "outputs": [
    {
     "name": "stdout",
     "output_type": "stream",
     "text": [
      "<class 'pandas.core.frame.DataFrame'>\n",
      "Index: 110 entries, K2 / Qogir / Godwin Austen to Lupghar Sar\n",
      "Data columns (total 6 columns):\n",
      " #   Column                     Non-Null Count  Dtype  \n",
      "---  ------                     --------------  -----  \n",
      " 0   Height (m)                 110 non-null    int64  \n",
      " 1   Prominence (m)             110 non-null    int64  \n",
      " 2   Range                      110 non-null    object \n",
      " 3   First ascent               110 non-null    object \n",
      " 4   Ascents bef. 2004          110 non-null    object \n",
      " 5   Failed attempts bef. 2004  110 non-null    float64\n",
      "dtypes: float64(1), int64(2), object(3)\n",
      "memory usage: 6.0+ KB\n"
     ]
    }
   ],
   "source": [
    "df.info()"
   ]
  },
  {
   "cell_type": "code",
   "execution_count": 25,
   "id": "c548b8c1-3677-4c54-9754-eca491fbe74a",
   "metadata": {},
   "outputs": [
    {
     "data": {
      "text/plain": [
       "Height (m)                     int64\n",
       "Prominence (m)                 int64\n",
       "Range                         object\n",
       "First ascent                  object\n",
       "Ascents bef. 2004             object\n",
       "Failed attempts bef. 2004    float64\n",
       "dtype: object"
      ]
     },
     "execution_count": 25,
     "metadata": {},
     "output_type": "execute_result"
    }
   ],
   "source": [
    "# Fixing data types\n",
    "\n",
    "df.dtypes"
   ]
  },
  {
   "cell_type": "code",
   "execution_count": 26,
   "id": "51c61214-6c39-4541-b909-8cd2b2833f0e",
   "metadata": {},
   "outputs": [
    {
     "data": {
      "text/html": [
       "<div>\n",
       "<style scoped>\n",
       "    .dataframe tbody tr th:only-of-type {\n",
       "        vertical-align: middle;\n",
       "    }\n",
       "\n",
       "    .dataframe tbody tr th {\n",
       "        vertical-align: top;\n",
       "    }\n",
       "\n",
       "    .dataframe thead th {\n",
       "        text-align: right;\n",
       "    }\n",
       "</style>\n",
       "<table border=\"1\" class=\"dataframe\">\n",
       "  <thead>\n",
       "    <tr style=\"text-align: right;\">\n",
       "      <th></th>\n",
       "      <th>Height (m)</th>\n",
       "      <th>Prominence (m)</th>\n",
       "      <th>Range</th>\n",
       "      <th>First ascent</th>\n",
       "      <th>Ascents bef. 2004</th>\n",
       "      <th>Failed attempts bef. 2004</th>\n",
       "    </tr>\n",
       "    <tr>\n",
       "      <th>Mountain</th>\n",
       "      <th></th>\n",
       "      <th></th>\n",
       "      <th></th>\n",
       "      <th></th>\n",
       "      <th></th>\n",
       "      <th></th>\n",
       "    </tr>\n",
       "  </thead>\n",
       "  <tbody>\n",
       "    <tr>\n",
       "      <th>K2 / Qogir / Godwin Austen</th>\n",
       "      <td>8611</td>\n",
       "      <td>4017</td>\n",
       "      <td>Baltoro Karakoram</td>\n",
       "      <td>1954</td>\n",
       "      <td>45</td>\n",
       "      <td>44.0</td>\n",
       "    </tr>\n",
       "    <tr>\n",
       "      <th>Kangchenjunga</th>\n",
       "      <td>8586</td>\n",
       "      <td>3922</td>\n",
       "      <td>Kangchenjunga Himalaya</td>\n",
       "      <td>1955</td>\n",
       "      <td>38</td>\n",
       "      <td>24.0</td>\n",
       "    </tr>\n",
       "    <tr>\n",
       "      <th>Lhotse</th>\n",
       "      <td>8516</td>\n",
       "      <td>610</td>\n",
       "      <td>Mahalangur Himalaya</td>\n",
       "      <td>1956</td>\n",
       "      <td>26</td>\n",
       "      <td>26.0</td>\n",
       "    </tr>\n",
       "    <tr>\n",
       "      <th>Makalu</th>\n",
       "      <td>8485</td>\n",
       "      <td>2386</td>\n",
       "      <td>Mahalangur Himalaya</td>\n",
       "      <td>1955</td>\n",
       "      <td>45</td>\n",
       "      <td>52.0</td>\n",
       "    </tr>\n",
       "    <tr>\n",
       "      <th>Cho Oyu</th>\n",
       "      <td>8188</td>\n",
       "      <td>2340</td>\n",
       "      <td>Mahalangur Himalaya</td>\n",
       "      <td>1954</td>\n",
       "      <td>79</td>\n",
       "      <td>28.0</td>\n",
       "    </tr>\n",
       "  </tbody>\n",
       "</table>\n",
       "</div>"
      ],
      "text/plain": [
       "                            Height (m)  Prominence (m)  \\\n",
       "Mountain                                                 \n",
       "K2 / Qogir / Godwin Austen        8611            4017   \n",
       "Kangchenjunga                     8586            3922   \n",
       "Lhotse                            8516             610   \n",
       "Makalu                            8485            2386   \n",
       "Cho Oyu                           8188            2340   \n",
       "\n",
       "                                             Range First ascent  \\\n",
       "Mountain                                                          \n",
       "K2 / Qogir / Godwin Austen       Baltoro Karakoram         1954   \n",
       "Kangchenjunga               Kangchenjunga Himalaya         1955   \n",
       "Lhotse                         Mahalangur Himalaya         1956   \n",
       "Makalu                         Mahalangur Himalaya         1955   \n",
       "Cho Oyu                        Mahalangur Himalaya         1954   \n",
       "\n",
       "                           Ascents bef. 2004  Failed attempts bef. 2004  \n",
       "Mountain                                                                 \n",
       "K2 / Qogir / Godwin Austen                45                       44.0  \n",
       "Kangchenjunga                             38                       24.0  \n",
       "Lhotse                                    26                       26.0  \n",
       "Makalu                                    45                       52.0  \n",
       "Cho Oyu                                   79                       28.0  "
      ]
     },
     "execution_count": 26,
     "metadata": {},
     "output_type": "execute_result"
    }
   ],
   "source": [
    "df.head(5)"
   ]
  },
  {
   "cell_type": "markdown",
   "id": "7d631bac-a463-4242-aace-7e044d41591e",
   "metadata": {},
   "source": [
    "### Chane the data type integer to First ascent, Ascents before. 2004 and Failed attempts before. 2004"
   ]
  },
  {
   "cell_type": "code",
   "execution_count": 27,
   "id": "49eafc90-f966-4b03-baa9-cfc2a16c15f2",
   "metadata": {},
   "outputs": [],
   "source": [
    "df[\"First ascent\"] = df[\"First ascent\"].astype(int)"
   ]
  },
  {
   "cell_type": "code",
   "execution_count": 28,
   "id": "0824d95a-fcc3-4270-8504-0090fade9e05",
   "metadata": {},
   "outputs": [],
   "source": [
    "df[\"Ascents bef. 2004\"] = df[\"Ascents bef. 2004\"].astype(int)"
   ]
  },
  {
   "cell_type": "code",
   "execution_count": 29,
   "id": "ff140e21-301a-4130-a74c-1e27739c4d3e",
   "metadata": {},
   "outputs": [],
   "source": [
    "df[\"Failed attempts bef. 2004\"] = df[\"Failed attempts bef. 2004\"].astype(int)"
   ]
  },
  {
   "cell_type": "code",
   "execution_count": 30,
   "id": "bad9d51a-bfdb-46f9-9f50-031a9188d0b8",
   "metadata": {},
   "outputs": [
    {
     "data": {
      "text/plain": [
       "Height (m)                    int64\n",
       "Prominence (m)                int64\n",
       "Range                        object\n",
       "First ascent                  int64\n",
       "Ascents bef. 2004             int64\n",
       "Failed attempts bef. 2004     int64\n",
       "dtype: object"
      ]
     },
     "execution_count": 30,
     "metadata": {},
     "output_type": "execute_result"
    }
   ],
   "source": [
    "df.dtypes # Check the data types again"
   ]
  },
  {
   "cell_type": "markdown",
   "id": "1e563a8a-a1b2-4552-8b70-ebf3868ddebe",
   "metadata": {},
   "source": [
    "### Soring clean dataframe as the new CSV"
   ]
  },
  {
   "cell_type": "code",
   "execution_count": 31,
   "id": "be58bf6a-bed9-4400-a98a-f7ee5c4c7f2c",
   "metadata": {},
   "outputs": [],
   "source": [
    "new_filename = \"Mountains_Cleaned.csv\"\n",
    "df.to_csv(new_filename, encoding= \"utf-8\")"
   ]
  },
  {
   "cell_type": "markdown",
   "id": "1eae5d55-9107-4324-a6c8-ae1bdd819ef8",
   "metadata": {},
   "source": [
    "## Analyzing Data"
   ]
  },
  {
   "cell_type": "code",
   "execution_count": 31,
   "id": "c3cb9cfb-7649-478e-9e49-0afaa898af29",
   "metadata": {},
   "outputs": [],
   "source": [
    "# Total Attempts\n",
    "\n",
    "df[\"Total attempts\"] = df[\"Ascents bef. 2004\"] + df[\"Failed attempts bef. 2004\"]"
   ]
  },
  {
   "cell_type": "code",
   "execution_count": 32,
   "id": "f8585962-9db5-47ed-9047-4d1d095ee7f8",
   "metadata": {},
   "outputs": [],
   "source": [
    "# Success rate\n",
    "\n",
    "df[\"Success rate\"] = (df[\"Ascents bef. 2004\"] / df[\"Total attempts\"]) * 100"
   ]
  },
  {
   "cell_type": "code",
   "execution_count": 33,
   "id": "f956e7ed-d0b7-455b-8bba-7ab71dc3343a",
   "metadata": {},
   "outputs": [],
   "source": [
    "# Difficulty\n",
    "\n",
    "df[\"Difficulty\"] = (df[\"Total attempts\"] / df[\"Success rate\"]) * 100 "
   ]
  },
  {
   "cell_type": "code",
   "execution_count": 34,
   "id": "85031f10-34de-4dd7-883d-fb65cdd1b082",
   "metadata": {},
   "outputs": [
    {
     "data": {
      "text/html": [
       "<div>\n",
       "<style scoped>\n",
       "    .dataframe tbody tr th:only-of-type {\n",
       "        vertical-align: middle;\n",
       "    }\n",
       "\n",
       "    .dataframe tbody tr th {\n",
       "        vertical-align: top;\n",
       "    }\n",
       "\n",
       "    .dataframe thead th {\n",
       "        text-align: right;\n",
       "    }\n",
       "</style>\n",
       "<table border=\"1\" class=\"dataframe\">\n",
       "  <thead>\n",
       "    <tr style=\"text-align: right;\">\n",
       "      <th></th>\n",
       "      <th>Height (m)</th>\n",
       "      <th>Prominence (m)</th>\n",
       "      <th>Range</th>\n",
       "      <th>First ascent</th>\n",
       "      <th>Ascents bef. 2004</th>\n",
       "      <th>Failed attempts bef. 2004</th>\n",
       "      <th>Total attempts</th>\n",
       "      <th>Success rate</th>\n",
       "      <th>Difficulty</th>\n",
       "    </tr>\n",
       "    <tr>\n",
       "      <th>Mountain</th>\n",
       "      <th></th>\n",
       "      <th></th>\n",
       "      <th></th>\n",
       "      <th></th>\n",
       "      <th></th>\n",
       "      <th></th>\n",
       "      <th></th>\n",
       "      <th></th>\n",
       "      <th></th>\n",
       "    </tr>\n",
       "  </thead>\n",
       "  <tbody>\n",
       "    <tr>\n",
       "      <th>K2 / Qogir / Godwin Austen</th>\n",
       "      <td>8611</td>\n",
       "      <td>4017</td>\n",
       "      <td>Baltoro Karakoram</td>\n",
       "      <td>1954</td>\n",
       "      <td>45</td>\n",
       "      <td>44</td>\n",
       "      <td>89</td>\n",
       "      <td>50.561798</td>\n",
       "      <td>176.022222</td>\n",
       "    </tr>\n",
       "    <tr>\n",
       "      <th>Kangchenjunga</th>\n",
       "      <td>8586</td>\n",
       "      <td>3922</td>\n",
       "      <td>Kangchenjunga Himalaya</td>\n",
       "      <td>1955</td>\n",
       "      <td>38</td>\n",
       "      <td>24</td>\n",
       "      <td>62</td>\n",
       "      <td>61.290323</td>\n",
       "      <td>101.157895</td>\n",
       "    </tr>\n",
       "    <tr>\n",
       "      <th>Lhotse</th>\n",
       "      <td>8516</td>\n",
       "      <td>610</td>\n",
       "      <td>Mahalangur Himalaya</td>\n",
       "      <td>1956</td>\n",
       "      <td>26</td>\n",
       "      <td>26</td>\n",
       "      <td>52</td>\n",
       "      <td>50.000000</td>\n",
       "      <td>104.000000</td>\n",
       "    </tr>\n",
       "    <tr>\n",
       "      <th>Makalu</th>\n",
       "      <td>8485</td>\n",
       "      <td>2386</td>\n",
       "      <td>Mahalangur Himalaya</td>\n",
       "      <td>1955</td>\n",
       "      <td>45</td>\n",
       "      <td>52</td>\n",
       "      <td>97</td>\n",
       "      <td>46.391753</td>\n",
       "      <td>209.088889</td>\n",
       "    </tr>\n",
       "    <tr>\n",
       "      <th>Cho Oyu</th>\n",
       "      <td>8188</td>\n",
       "      <td>2340</td>\n",
       "      <td>Mahalangur Himalaya</td>\n",
       "      <td>1954</td>\n",
       "      <td>79</td>\n",
       "      <td>28</td>\n",
       "      <td>107</td>\n",
       "      <td>73.831776</td>\n",
       "      <td>144.924051</td>\n",
       "    </tr>\n",
       "  </tbody>\n",
       "</table>\n",
       "</div>"
      ],
      "text/plain": [
       "                            Height (m)  Prominence (m)  \\\n",
       "Mountain                                                 \n",
       "K2 / Qogir / Godwin Austen        8611            4017   \n",
       "Kangchenjunga                     8586            3922   \n",
       "Lhotse                            8516             610   \n",
       "Makalu                            8485            2386   \n",
       "Cho Oyu                           8188            2340   \n",
       "\n",
       "                                             Range  First ascent  \\\n",
       "Mountain                                                           \n",
       "K2 / Qogir / Godwin Austen       Baltoro Karakoram          1954   \n",
       "Kangchenjunga               Kangchenjunga Himalaya          1955   \n",
       "Lhotse                         Mahalangur Himalaya          1956   \n",
       "Makalu                         Mahalangur Himalaya          1955   \n",
       "Cho Oyu                        Mahalangur Himalaya          1954   \n",
       "\n",
       "                            Ascents bef. 2004  Failed attempts bef. 2004  \\\n",
       "Mountain                                                                   \n",
       "K2 / Qogir / Godwin Austen                 45                         44   \n",
       "Kangchenjunga                              38                         24   \n",
       "Lhotse                                     26                         26   \n",
       "Makalu                                     45                         52   \n",
       "Cho Oyu                                    79                         28   \n",
       "\n",
       "                            Total attempts  Success rate  Difficulty  \n",
       "Mountain                                                              \n",
       "K2 / Qogir / Godwin Austen              89     50.561798  176.022222  \n",
       "Kangchenjunga                           62     61.290323  101.157895  \n",
       "Lhotse                                  52     50.000000  104.000000  \n",
       "Makalu                                  97     46.391753  209.088889  \n",
       "Cho Oyu                                107     73.831776  144.924051  "
      ]
     },
     "execution_count": 34,
     "metadata": {},
     "output_type": "execute_result"
    }
   ],
   "source": [
    "df.head(5)"
   ]
  },
  {
   "cell_type": "code",
   "execution_count": 35,
   "id": "112a1ad5-e907-4e7a-b977-96273ef39627",
   "metadata": {},
   "outputs": [],
   "source": [
    "# Normalize the difficulty\n",
    "\n",
    "df[\"Difficulty\"] = df[\"Difficulty\"] / df[\"Difficulty\"].max()"
   ]
  },
  {
   "cell_type": "code",
   "execution_count": 36,
   "id": "a594ad06-c592-4a65-a1f6-93a29a511d3b",
   "metadata": {},
   "outputs": [
    {
     "data": {
      "text/html": [
       "<div>\n",
       "<style scoped>\n",
       "    .dataframe tbody tr th:only-of-type {\n",
       "        vertical-align: middle;\n",
       "    }\n",
       "\n",
       "    .dataframe tbody tr th {\n",
       "        vertical-align: top;\n",
       "    }\n",
       "\n",
       "    .dataframe thead th {\n",
       "        text-align: right;\n",
       "    }\n",
       "</style>\n",
       "<table border=\"1\" class=\"dataframe\">\n",
       "  <thead>\n",
       "    <tr style=\"text-align: right;\">\n",
       "      <th></th>\n",
       "      <th>Height (m)</th>\n",
       "      <th>Prominence (m)</th>\n",
       "      <th>Range</th>\n",
       "      <th>First ascent</th>\n",
       "      <th>Ascents bef. 2004</th>\n",
       "      <th>Failed attempts bef. 2004</th>\n",
       "      <th>Total attempts</th>\n",
       "      <th>Success rate</th>\n",
       "      <th>Difficulty</th>\n",
       "    </tr>\n",
       "    <tr>\n",
       "      <th>Mountain</th>\n",
       "      <th></th>\n",
       "      <th></th>\n",
       "      <th></th>\n",
       "      <th></th>\n",
       "      <th></th>\n",
       "      <th></th>\n",
       "      <th></th>\n",
       "      <th></th>\n",
       "      <th></th>\n",
       "    </tr>\n",
       "  </thead>\n",
       "  <tbody>\n",
       "    <tr>\n",
       "      <th>K2 / Qogir / Godwin Austen</th>\n",
       "      <td>8611</td>\n",
       "      <td>4017</td>\n",
       "      <td>Baltoro Karakoram</td>\n",
       "      <td>1954</td>\n",
       "      <td>45</td>\n",
       "      <td>44</td>\n",
       "      <td>89</td>\n",
       "      <td>50.561798</td>\n",
       "      <td>0.646364</td>\n",
       "    </tr>\n",
       "    <tr>\n",
       "      <th>Kangchenjunga</th>\n",
       "      <td>8586</td>\n",
       "      <td>3922</td>\n",
       "      <td>Kangchenjunga Himalaya</td>\n",
       "      <td>1955</td>\n",
       "      <td>38</td>\n",
       "      <td>24</td>\n",
       "      <td>62</td>\n",
       "      <td>61.290323</td>\n",
       "      <td>0.371458</td>\n",
       "    </tr>\n",
       "    <tr>\n",
       "      <th>Lhotse</th>\n",
       "      <td>8516</td>\n",
       "      <td>610</td>\n",
       "      <td>Mahalangur Himalaya</td>\n",
       "      <td>1956</td>\n",
       "      <td>26</td>\n",
       "      <td>26</td>\n",
       "      <td>52</td>\n",
       "      <td>50.000000</td>\n",
       "      <td>0.381894</td>\n",
       "    </tr>\n",
       "    <tr>\n",
       "      <th>Makalu</th>\n",
       "      <td>8485</td>\n",
       "      <td>2386</td>\n",
       "      <td>Mahalangur Himalaya</td>\n",
       "      <td>1955</td>\n",
       "      <td>45</td>\n",
       "      <td>52</td>\n",
       "      <td>97</td>\n",
       "      <td>46.391753</td>\n",
       "      <td>0.767786</td>\n",
       "    </tr>\n",
       "    <tr>\n",
       "      <th>Cho Oyu</th>\n",
       "      <td>8188</td>\n",
       "      <td>2340</td>\n",
       "      <td>Mahalangur Himalaya</td>\n",
       "      <td>1954</td>\n",
       "      <td>79</td>\n",
       "      <td>28</td>\n",
       "      <td>107</td>\n",
       "      <td>73.831776</td>\n",
       "      <td>0.532169</td>\n",
       "    </tr>\n",
       "  </tbody>\n",
       "</table>\n",
       "</div>"
      ],
      "text/plain": [
       "                            Height (m)  Prominence (m)  \\\n",
       "Mountain                                                 \n",
       "K2 / Qogir / Godwin Austen        8611            4017   \n",
       "Kangchenjunga                     8586            3922   \n",
       "Lhotse                            8516             610   \n",
       "Makalu                            8485            2386   \n",
       "Cho Oyu                           8188            2340   \n",
       "\n",
       "                                             Range  First ascent  \\\n",
       "Mountain                                                           \n",
       "K2 / Qogir / Godwin Austen       Baltoro Karakoram          1954   \n",
       "Kangchenjunga               Kangchenjunga Himalaya          1955   \n",
       "Lhotse                         Mahalangur Himalaya          1956   \n",
       "Makalu                         Mahalangur Himalaya          1955   \n",
       "Cho Oyu                        Mahalangur Himalaya          1954   \n",
       "\n",
       "                            Ascents bef. 2004  Failed attempts bef. 2004  \\\n",
       "Mountain                                                                   \n",
       "K2 / Qogir / Godwin Austen                 45                         44   \n",
       "Kangchenjunga                              38                         24   \n",
       "Lhotse                                     26                         26   \n",
       "Makalu                                     45                         52   \n",
       "Cho Oyu                                    79                         28   \n",
       "\n",
       "                            Total attempts  Success rate  Difficulty  \n",
       "Mountain                                                              \n",
       "K2 / Qogir / Godwin Austen              89     50.561798    0.646364  \n",
       "Kangchenjunga                           62     61.290323    0.371458  \n",
       "Lhotse                                  52     50.000000    0.381894  \n",
       "Makalu                                  97     46.391753    0.767786  \n",
       "Cho Oyu                                107     73.831776    0.532169  "
      ]
     },
     "execution_count": 36,
     "metadata": {},
     "output_type": "execute_result"
    }
   ],
   "source": [
    "df.head(5)"
   ]
  },
  {
   "cell_type": "code",
   "execution_count": 37,
   "id": "a3c699c0-012a-4d8e-a61b-46d7f968c109",
   "metadata": {},
   "outputs": [],
   "source": [
    "# Sort the Difficulty  from descending order and updated as df\n",
    "\n",
    "df = df.sort_values(by=\"Difficulty\", ascending=False)"
   ]
  },
  {
   "cell_type": "code",
   "execution_count": 38,
   "id": "08364d6f-9432-4754-8c8c-046592049a86",
   "metadata": {},
   "outputs": [
    {
     "data": {
      "text/html": [
       "<div>\n",
       "<style scoped>\n",
       "    .dataframe tbody tr th:only-of-type {\n",
       "        vertical-align: middle;\n",
       "    }\n",
       "\n",
       "    .dataframe tbody tr th {\n",
       "        vertical-align: top;\n",
       "    }\n",
       "\n",
       "    .dataframe thead th {\n",
       "        text-align: right;\n",
       "    }\n",
       "</style>\n",
       "<table border=\"1\" class=\"dataframe\">\n",
       "  <thead>\n",
       "    <tr style=\"text-align: right;\">\n",
       "      <th></th>\n",
       "      <th>Height (m)</th>\n",
       "      <th>Prominence (m)</th>\n",
       "      <th>Range</th>\n",
       "      <th>First ascent</th>\n",
       "      <th>Ascents bef. 2004</th>\n",
       "      <th>Failed attempts bef. 2004</th>\n",
       "      <th>Total attempts</th>\n",
       "      <th>Success rate</th>\n",
       "      <th>Difficulty</th>\n",
       "    </tr>\n",
       "    <tr>\n",
       "      <th>Mountain</th>\n",
       "      <th></th>\n",
       "      <th></th>\n",
       "      <th></th>\n",
       "      <th></th>\n",
       "      <th></th>\n",
       "      <th></th>\n",
       "      <th></th>\n",
       "      <th></th>\n",
       "      <th></th>\n",
       "    </tr>\n",
       "  </thead>\n",
       "  <tbody>\n",
       "    <tr>\n",
       "      <th>Nanga Parbat</th>\n",
       "      <td>8126</td>\n",
       "      <td>4608</td>\n",
       "      <td>Nanga Parbat Himalaya</td>\n",
       "      <td>1953</td>\n",
       "      <td>52</td>\n",
       "      <td>67</td>\n",
       "      <td>119</td>\n",
       "      <td>43.697479</td>\n",
       "      <td>1.000000</td>\n",
       "    </tr>\n",
       "    <tr>\n",
       "      <th>Makalu</th>\n",
       "      <td>8485</td>\n",
       "      <td>2386</td>\n",
       "      <td>Mahalangur Himalaya</td>\n",
       "      <td>1955</td>\n",
       "      <td>45</td>\n",
       "      <td>52</td>\n",
       "      <td>97</td>\n",
       "      <td>46.391753</td>\n",
       "      <td>0.767786</td>\n",
       "    </tr>\n",
       "    <tr>\n",
       "      <th>Annapurna I</th>\n",
       "      <td>8091</td>\n",
       "      <td>2984</td>\n",
       "      <td>Annapurna Himalaya</td>\n",
       "      <td>1950</td>\n",
       "      <td>36</td>\n",
       "      <td>47</td>\n",
       "      <td>83</td>\n",
       "      <td>43.373494</td>\n",
       "      <td>0.702689</td>\n",
       "    </tr>\n",
       "    <tr>\n",
       "      <th>Manaslu</th>\n",
       "      <td>8163</td>\n",
       "      <td>3092</td>\n",
       "      <td>Manaslu Himalaya</td>\n",
       "      <td>1956</td>\n",
       "      <td>49</td>\n",
       "      <td>45</td>\n",
       "      <td>94</td>\n",
       "      <td>52.127660</td>\n",
       "      <td>0.662169</td>\n",
       "    </tr>\n",
       "    <tr>\n",
       "      <th>K2 / Qogir / Godwin Austen</th>\n",
       "      <td>8611</td>\n",
       "      <td>4017</td>\n",
       "      <td>Baltoro Karakoram</td>\n",
       "      <td>1954</td>\n",
       "      <td>45</td>\n",
       "      <td>44</td>\n",
       "      <td>89</td>\n",
       "      <td>50.561798</td>\n",
       "      <td>0.646364</td>\n",
       "    </tr>\n",
       "  </tbody>\n",
       "</table>\n",
       "</div>"
      ],
      "text/plain": [
       "                            Height (m)  Prominence (m)                  Range  \\\n",
       "Mountain                                                                        \n",
       "Nanga Parbat                      8126            4608  Nanga Parbat Himalaya   \n",
       "Makalu                            8485            2386    Mahalangur Himalaya   \n",
       "Annapurna I                       8091            2984     Annapurna Himalaya   \n",
       "Manaslu                           8163            3092       Manaslu Himalaya   \n",
       "K2 / Qogir / Godwin Austen        8611            4017      Baltoro Karakoram   \n",
       "\n",
       "                            First ascent  Ascents bef. 2004  \\\n",
       "Mountain                                                      \n",
       "Nanga Parbat                        1953                 52   \n",
       "Makalu                              1955                 45   \n",
       "Annapurna I                         1950                 36   \n",
       "Manaslu                             1956                 49   \n",
       "K2 / Qogir / Godwin Austen          1954                 45   \n",
       "\n",
       "                            Failed attempts bef. 2004  Total attempts  \\\n",
       "Mountain                                                                \n",
       "Nanga Parbat                                       67             119   \n",
       "Makalu                                             52              97   \n",
       "Annapurna I                                        47              83   \n",
       "Manaslu                                            45              94   \n",
       "K2 / Qogir / Godwin Austen                         44              89   \n",
       "\n",
       "                            Success rate  Difficulty  \n",
       "Mountain                                              \n",
       "Nanga Parbat                   43.697479    1.000000  \n",
       "Makalu                         46.391753    0.767786  \n",
       "Annapurna I                    43.373494    0.702689  \n",
       "Manaslu                        52.127660    0.662169  \n",
       "K2 / Qogir / Godwin Austen     50.561798    0.646364  "
      ]
     },
     "execution_count": 38,
     "metadata": {},
     "output_type": "execute_result"
    }
   ],
   "source": [
    "df.head(5) # Check "
   ]
  },
  {
   "cell_type": "markdown",
   "id": "5c1d48ca-ff8b-42df-9657-9e5dc0d87973",
   "metadata": {},
   "source": [
    "### Bar plots"
   ]
  },
  {
   "cell_type": "code",
   "execution_count": 39,
   "id": "707695fa-57ad-40a0-b794-a5839f4727c1",
   "metadata": {},
   "outputs": [
    {
     "name": "stdout",
     "output_type": "stream",
     "text": [
      "<class 'pandas.core.frame.DataFrame'>\n",
      "Index: 110 entries, Nanga Parbat to Saser Kangri II E\n",
      "Data columns (total 9 columns):\n",
      " #   Column                     Non-Null Count  Dtype  \n",
      "---  ------                     --------------  -----  \n",
      " 0   Height (m)                 110 non-null    int64  \n",
      " 1   Prominence (m)             110 non-null    int64  \n",
      " 2   Range                      110 non-null    object \n",
      " 3   First ascent               110 non-null    int64  \n",
      " 4   Ascents bef. 2004          110 non-null    int64  \n",
      " 5   Failed attempts bef. 2004  110 non-null    int64  \n",
      " 6   Total attempts             110 non-null    int64  \n",
      " 7   Success rate               109 non-null    float64\n",
      " 8   Difficulty                 109 non-null    float64\n",
      "dtypes: float64(2), int64(6), object(1)\n",
      "memory usage: 8.6+ KB\n"
     ]
    }
   ],
   "source": [
    "# Makr sure the index is properly defined before starting plot\n",
    "\n",
    "df.info()"
   ]
  },
  {
   "cell_type": "code",
   "execution_count": 40,
   "id": "fe4c3522-fff8-4d46-abe3-55d4c67ddd2f",
   "metadata": {},
   "outputs": [
    {
     "data": {
      "text/html": [
       "<div>\n",
       "<style scoped>\n",
       "    .dataframe tbody tr th:only-of-type {\n",
       "        vertical-align: middle;\n",
       "    }\n",
       "\n",
       "    .dataframe tbody tr th {\n",
       "        vertical-align: top;\n",
       "    }\n",
       "\n",
       "    .dataframe thead th {\n",
       "        text-align: right;\n",
       "    }\n",
       "</style>\n",
       "<table border=\"1\" class=\"dataframe\">\n",
       "  <thead>\n",
       "    <tr style=\"text-align: right;\">\n",
       "      <th></th>\n",
       "      <th>Height (m)</th>\n",
       "      <th>Prominence (m)</th>\n",
       "      <th>Range</th>\n",
       "      <th>First ascent</th>\n",
       "      <th>Ascents bef. 2004</th>\n",
       "      <th>Failed attempts bef. 2004</th>\n",
       "      <th>Total attempts</th>\n",
       "      <th>Success rate</th>\n",
       "      <th>Difficulty</th>\n",
       "    </tr>\n",
       "    <tr>\n",
       "      <th>Mountain</th>\n",
       "      <th></th>\n",
       "      <th></th>\n",
       "      <th></th>\n",
       "      <th></th>\n",
       "      <th></th>\n",
       "      <th></th>\n",
       "      <th></th>\n",
       "      <th></th>\n",
       "      <th></th>\n",
       "    </tr>\n",
       "  </thead>\n",
       "  <tbody>\n",
       "    <tr>\n",
       "      <th>Nanga Parbat</th>\n",
       "      <td>8126</td>\n",
       "      <td>4608</td>\n",
       "      <td>Nanga Parbat Himalaya</td>\n",
       "      <td>1953</td>\n",
       "      <td>52</td>\n",
       "      <td>67</td>\n",
       "      <td>119</td>\n",
       "      <td>43.697479</td>\n",
       "      <td>1.000000</td>\n",
       "    </tr>\n",
       "    <tr>\n",
       "      <th>Makalu</th>\n",
       "      <td>8485</td>\n",
       "      <td>2386</td>\n",
       "      <td>Mahalangur Himalaya</td>\n",
       "      <td>1955</td>\n",
       "      <td>45</td>\n",
       "      <td>52</td>\n",
       "      <td>97</td>\n",
       "      <td>46.391753</td>\n",
       "      <td>0.767786</td>\n",
       "    </tr>\n",
       "    <tr>\n",
       "      <th>Annapurna I</th>\n",
       "      <td>8091</td>\n",
       "      <td>2984</td>\n",
       "      <td>Annapurna Himalaya</td>\n",
       "      <td>1950</td>\n",
       "      <td>36</td>\n",
       "      <td>47</td>\n",
       "      <td>83</td>\n",
       "      <td>43.373494</td>\n",
       "      <td>0.702689</td>\n",
       "    </tr>\n",
       "    <tr>\n",
       "      <th>Manaslu</th>\n",
       "      <td>8163</td>\n",
       "      <td>3092</td>\n",
       "      <td>Manaslu Himalaya</td>\n",
       "      <td>1956</td>\n",
       "      <td>49</td>\n",
       "      <td>45</td>\n",
       "      <td>94</td>\n",
       "      <td>52.127660</td>\n",
       "      <td>0.662169</td>\n",
       "    </tr>\n",
       "    <tr>\n",
       "      <th>K2 / Qogir / Godwin Austen</th>\n",
       "      <td>8611</td>\n",
       "      <td>4017</td>\n",
       "      <td>Baltoro Karakoram</td>\n",
       "      <td>1954</td>\n",
       "      <td>45</td>\n",
       "      <td>44</td>\n",
       "      <td>89</td>\n",
       "      <td>50.561798</td>\n",
       "      <td>0.646364</td>\n",
       "    </tr>\n",
       "  </tbody>\n",
       "</table>\n",
       "</div>"
      ],
      "text/plain": [
       "                            Height (m)  Prominence (m)                  Range  \\\n",
       "Mountain                                                                        \n",
       "Nanga Parbat                      8126            4608  Nanga Parbat Himalaya   \n",
       "Makalu                            8485            2386    Mahalangur Himalaya   \n",
       "Annapurna I                       8091            2984     Annapurna Himalaya   \n",
       "Manaslu                           8163            3092       Manaslu Himalaya   \n",
       "K2 / Qogir / Godwin Austen        8611            4017      Baltoro Karakoram   \n",
       "\n",
       "                            First ascent  Ascents bef. 2004  \\\n",
       "Mountain                                                      \n",
       "Nanga Parbat                        1953                 52   \n",
       "Makalu                              1955                 45   \n",
       "Annapurna I                         1950                 36   \n",
       "Manaslu                             1956                 49   \n",
       "K2 / Qogir / Godwin Austen          1954                 45   \n",
       "\n",
       "                            Failed attempts bef. 2004  Total attempts  \\\n",
       "Mountain                                                                \n",
       "Nanga Parbat                                       67             119   \n",
       "Makalu                                             52              97   \n",
       "Annapurna I                                        47              83   \n",
       "Manaslu                                            45              94   \n",
       "K2 / Qogir / Godwin Austen                         44              89   \n",
       "\n",
       "                            Success rate  Difficulty  \n",
       "Mountain                                              \n",
       "Nanga Parbat                   43.697479    1.000000  \n",
       "Makalu                         46.391753    0.767786  \n",
       "Annapurna I                    43.373494    0.702689  \n",
       "Manaslu                        52.127660    0.662169  \n",
       "K2 / Qogir / Godwin Austen     50.561798    0.646364  "
      ]
     },
     "execution_count": 40,
     "metadata": {},
     "output_type": "execute_result"
    }
   ],
   "source": [
    "df.head(5)"
   ]
  },
  {
   "cell_type": "code",
   "execution_count": 41,
   "id": "5d6195e7-bde3-4d47-9ffb-0ed78b4519df",
   "metadata": {},
   "outputs": [],
   "source": [
    "df = df.reset_index().set_index(\"Mountain\") # after ordering, make sure reset the index"
   ]
  },
  {
   "cell_type": "code",
   "execution_count": 42,
   "id": "28a3440b-96a3-46e4-96ce-cddb9f341300",
   "metadata": {},
   "outputs": [],
   "source": [
    "# Select the first 10 rows and interested the column Difficulty\n",
    "\n",
    "values = df[0:10][\"Difficulty\"]"
   ]
  },
  {
   "cell_type": "code",
   "execution_count": 43,
   "id": "8e6638ba-3728-4f14-88d0-7d2849463cc0",
   "metadata": {},
   "outputs": [
    {
     "data": {
      "text/plain": [
       "Mountain\n",
       "Nanga Parbat                  1.000000\n",
       "Makalu                        0.767786\n",
       "Annapurna I                   0.702689\n",
       "Manaslu                       0.662169\n",
       "K2 / Qogir / Godwin Austen    0.646364\n",
       "Dhaulagiri I                  0.583209\n",
       "Cho Oyu                       0.532169\n",
       "Annapurna II                  0.382506\n",
       "Lhotse                        0.381894\n",
       "Kangchenjunga                 0.371458\n",
       "Name: Difficulty, dtype: float64"
      ]
     },
     "execution_count": 43,
     "metadata": {},
     "output_type": "execute_result"
    }
   ],
   "source": [
    "values"
   ]
  },
  {
   "cell_type": "code",
   "execution_count": 44,
   "id": "c66e9532-5aa5-429c-a4ac-2fe74c9b108f",
   "metadata": {},
   "outputs": [
    {
     "data": {
      "image/png": "[encoded data removed]",
      "text/plain": [
       "<Figure size 432x288 with 1 Axes>"
      ]
     },
     "metadata": {
      "needs_background": "light"
     },
     "output_type": "display_data"
    }
   ],
   "source": [
    "# Draw the bar plot\n",
    "# values.plot.type()\n",
    "\n",
    "bar_plot = values.plot.barh()"
   ]
  },
  {
   "cell_type": "code",
   "execution_count": 45,
   "id": "3a0c73e7-8d49-4644-bc69-0e9319de8e21",
   "metadata": {},
   "outputs": [
    {
     "data": {
      "image/png": "[encoded data removed]",
      "text/plain": [
       "<Figure size 432x288 with 1 Axes>"
      ]
     },
     "metadata": {
      "needs_background": "light"
     },
     "output_type": "display_data"
    }
   ],
   "source": [
    "# colormap\n",
    "\n",
    "colormap = plt.cm.tab10(range(0, len(values)))\n",
    "bar_plot = values.plot.barh(color=colormap)"
   ]
  },
  {
   "cell_type": "code",
   "execution_count": 46,
   "id": "fd97d049-0f84-47a9-9f2f-c9ce1e2bebd1",
   "metadata": {},
   "outputs": [
    {
     "data": {
      "image/png": "[encoded data removed]",
      "text/plain": [
       "<Figure size 432x288 with 1 Axes>"
      ]
     },
     "metadata": {
      "needs_background": "light"
     },
     "output_type": "display_data"
    }
   ],
   "source": [
    "# Putting the codes together\n",
    "\n",
    "values = df[0:10][\"Difficulty\"]\n",
    "colormap = plt.cm.tab10(range(0, len(values)))\n",
    "bar_plot = values.plot.barh(color=colormap)\n",
    "plt.show()"
   ]
  },
  {
   "cell_type": "code",
   "execution_count": 47,
   "id": "119d09bd-ce91-4b5f-9f4c-320313ccb226",
   "metadata": {},
   "outputs": [
    {
     "data": {
      "image/png": "[encoded data removed]",
      "text/plain": [
       "<Figure size 432x288 with 1 Axes>"
      ]
     },
     "metadata": {
      "needs_background": "light"
     },
     "output_type": "display_data"
    }
   ],
   "source": [
    "# Adding titles, labels and invert y axis\n",
    "\n",
    "values = df[0:10][\"Difficulty\"]\n",
    "colormap = plt.cm.tab10(range(0, len(values)))\n",
    "bar_plot = values.plot.barh(color=colormap)\n",
    "bar_plot.set_title(\"The 10 most difficult mountains\")\n",
    "bar_plot.set_xlabel(\"Difficulty\")\n",
    "bar_plot.invert_yaxis()\n",
    "plt.show(bar_plot)"
   ]
  },
  {
   "cell_type": "code",
   "execution_count": 51,
   "id": "4edeb83e-93f5-457e-8f57-a01a50eda9f6",
   "metadata": {},
   "outputs": [],
   "source": [
    "# Creating new clean file for Moe's study\n",
    "\n",
    "new_filename_bar = \"Mountains_Cleaned_For_Plots.csv\"\n",
    "df.to_csv(new_filename_bar, encoding= \"utf-8\")"
   ]
  },
  {
   "cell_type": "markdown",
   "id": "f3648f88-2772-4bd8-9a76-3d6b8523a30d",
   "metadata": {},
   "source": [
    "### Histograms"
   ]
  },
  {
   "cell_type": "code",
   "execution_count": 48,
   "id": "a916a985-a9f2-426c-b7ff-4d40e13bc115",
   "metadata": {},
   "outputs": [
    {
     "data": {
      "image/png": "[encoded data removed]",
      "text/plain": [
       "<Figure size 432x288 with 1 Axes>"
      ]
     },
     "metadata": {
      "needs_background": "light"
     },
     "output_type": "display_data"
    }
   ],
   "source": [
    "# Histogram is frequency of a values within or at the defined column\n",
    "\n",
    "df[\"First ascent\"].plot.hist()\n",
    "plt.show()"
   ]
  },
  {
   "cell_type": "code",
   "execution_count": 49,
   "id": "02e63693-6552-46a8-884a-886611094d03",
   "metadata": {},
   "outputs": [
    {
     "data": {
      "image/png": "[encoded data removed]",
      "text/plain": [
       "<Figure size 432x288 with 1 Axes>"
      ]
     },
     "metadata": {
      "needs_background": "light"
     },
     "output_type": "display_data"
    }
   ],
   "source": [
    "# Let's draw better\n",
    "\n",
    "hist = df[\"First ascent\"].plot.hist(bins=20, color=\"orange\", edgecolor=\"black\")"
   ]
  },
  {
   "cell_type": "code",
   "execution_count": 50,
   "id": "2b2e1e16-f14d-4f04-95c5-f37a3d2286e7",
   "metadata": {},
   "outputs": [
    {
     "data": {
      "image/png": "[encoded data removed]",
      "text/plain": [
       "<Figure size 432x288 with 1 Axes>"
      ]
     },
     "metadata": {
      "needs_background": "light"
     },
     "output_type": "display_data"
    }
   ],
   "source": [
    "hist = df[\"First ascent\"].plot.hist(bins=20, color=\"orange\", edgecolor=\"black\")\n",
    "hist.set_xlabel(\"Year\")\n",
    "hist.set_ylabel(\"Number of first ascents\")\n",
    "hist.set_title(\"Popular years of climbing\")\n",
    "plt.show()"
   ]
  },
  {
   "cell_type": "markdown",
   "id": "534492d7-8f97-4482-9ee0-039080f909db",
   "metadata": {},
   "source": [
    "### Stacked histograms"
   ]
  },
  {
   "cell_type": "code",
   "execution_count": 51,
   "id": "08850d71-6803-4332-8c40-55c6647f6fdc",
   "metadata": {},
   "outputs": [
    {
     "data": {
      "text/html": [
       "<div>\n",
       "<style scoped>\n",
       "    .dataframe tbody tr th:only-of-type {\n",
       "        vertical-align: middle;\n",
       "    }\n",
       "\n",
       "    .dataframe tbody tr th {\n",
       "        vertical-align: top;\n",
       "    }\n",
       "\n",
       "    .dataframe thead th {\n",
       "        text-align: right;\n",
       "    }\n",
       "</style>\n",
       "<table border=\"1\" class=\"dataframe\">\n",
       "  <thead>\n",
       "    <tr style=\"text-align: right;\">\n",
       "      <th></th>\n",
       "      <th>Height (m)</th>\n",
       "      <th>Prominence (m)</th>\n",
       "      <th>Range</th>\n",
       "      <th>First ascent</th>\n",
       "      <th>Ascents bef. 2004</th>\n",
       "      <th>Failed attempts bef. 2004</th>\n",
       "      <th>Total attempts</th>\n",
       "      <th>Success rate</th>\n",
       "      <th>Difficulty</th>\n",
       "    </tr>\n",
       "    <tr>\n",
       "      <th>Mountain</th>\n",
       "      <th></th>\n",
       "      <th></th>\n",
       "      <th></th>\n",
       "      <th></th>\n",
       "      <th></th>\n",
       "      <th></th>\n",
       "      <th></th>\n",
       "      <th></th>\n",
       "      <th></th>\n",
       "    </tr>\n",
       "  </thead>\n",
       "  <tbody>\n",
       "    <tr>\n",
       "      <th>Nanga Parbat</th>\n",
       "      <td>8126</td>\n",
       "      <td>4608</td>\n",
       "      <td>Nanga Parbat Himalaya</td>\n",
       "      <td>1953</td>\n",
       "      <td>52</td>\n",
       "      <td>67</td>\n",
       "      <td>119</td>\n",
       "      <td>43.697479</td>\n",
       "      <td>1.000000</td>\n",
       "    </tr>\n",
       "    <tr>\n",
       "      <th>Makalu</th>\n",
       "      <td>8485</td>\n",
       "      <td>2386</td>\n",
       "      <td>Mahalangur Himalaya</td>\n",
       "      <td>1955</td>\n",
       "      <td>45</td>\n",
       "      <td>52</td>\n",
       "      <td>97</td>\n",
       "      <td>46.391753</td>\n",
       "      <td>0.767786</td>\n",
       "    </tr>\n",
       "    <tr>\n",
       "      <th>Annapurna I</th>\n",
       "      <td>8091</td>\n",
       "      <td>2984</td>\n",
       "      <td>Annapurna Himalaya</td>\n",
       "      <td>1950</td>\n",
       "      <td>36</td>\n",
       "      <td>47</td>\n",
       "      <td>83</td>\n",
       "      <td>43.373494</td>\n",
       "      <td>0.702689</td>\n",
       "    </tr>\n",
       "    <tr>\n",
       "      <th>Manaslu</th>\n",
       "      <td>8163</td>\n",
       "      <td>3092</td>\n",
       "      <td>Manaslu Himalaya</td>\n",
       "      <td>1956</td>\n",
       "      <td>49</td>\n",
       "      <td>45</td>\n",
       "      <td>94</td>\n",
       "      <td>52.127660</td>\n",
       "      <td>0.662169</td>\n",
       "    </tr>\n",
       "    <tr>\n",
       "      <th>K2 / Qogir / Godwin Austen</th>\n",
       "      <td>8611</td>\n",
       "      <td>4017</td>\n",
       "      <td>Baltoro Karakoram</td>\n",
       "      <td>1954</td>\n",
       "      <td>45</td>\n",
       "      <td>44</td>\n",
       "      <td>89</td>\n",
       "      <td>50.561798</td>\n",
       "      <td>0.646364</td>\n",
       "    </tr>\n",
       "  </tbody>\n",
       "</table>\n",
       "</div>"
      ],
      "text/plain": [
       "                            Height (m)  Prominence (m)                  Range  \\\n",
       "Mountain                                                                        \n",
       "Nanga Parbat                      8126            4608  Nanga Parbat Himalaya   \n",
       "Makalu                            8485            2386    Mahalangur Himalaya   \n",
       "Annapurna I                       8091            2984     Annapurna Himalaya   \n",
       "Manaslu                           8163            3092       Manaslu Himalaya   \n",
       "K2 / Qogir / Godwin Austen        8611            4017      Baltoro Karakoram   \n",
       "\n",
       "                            First ascent  Ascents bef. 2004  \\\n",
       "Mountain                                                      \n",
       "Nanga Parbat                        1953                 52   \n",
       "Makalu                              1955                 45   \n",
       "Annapurna I                         1950                 36   \n",
       "Manaslu                             1956                 49   \n",
       "K2 / Qogir / Godwin Austen          1954                 45   \n",
       "\n",
       "                            Failed attempts bef. 2004  Total attempts  \\\n",
       "Mountain                                                                \n",
       "Nanga Parbat                                       67             119   \n",
       "Makalu                                             52              97   \n",
       "Annapurna I                                        47              83   \n",
       "Manaslu                                            45              94   \n",
       "K2 / Qogir / Godwin Austen                         44              89   \n",
       "\n",
       "                            Success rate  Difficulty  \n",
       "Mountain                                              \n",
       "Nanga Parbat                   43.697479    1.000000  \n",
       "Makalu                         46.391753    0.767786  \n",
       "Annapurna I                    43.373494    0.702689  \n",
       "Manaslu                        52.127660    0.662169  \n",
       "K2 / Qogir / Godwin Austen     50.561798    0.646364  "
      ]
     },
     "execution_count": 51,
     "metadata": {},
     "output_type": "execute_result"
    }
   ],
   "source": [
    "# Separate mountains theat are below and above 8000 m\n",
    "\n",
    "df.head()"
   ]
  },
  {
   "cell_type": "code",
   "execution_count": 52,
   "id": "797ae7ba-c90a-4832-b737-c8c5980c99ed",
   "metadata": {},
   "outputs": [],
   "source": [
    "# Make sure reset the index \n",
    "\n",
    "df = df.reset_index().set_index(\"Mountain\")"
   ]
  },
  {
   "cell_type": "code",
   "execution_count": 53,
   "id": "901836ef-7f5f-4582-85b3-a750d6888b02",
   "metadata": {},
   "outputs": [
    {
     "data": {
      "text/plain": [
       "Mountain\n",
       "Nanga Parbat                   True\n",
       "Makalu                         True\n",
       "Annapurna I                    True\n",
       "Manaslu                        True\n",
       "K2 / Qogir / Godwin Austen     True\n",
       "                              ...  \n",
       "Baltoro Kangri                False\n",
       "Gyala Peri                    False\n",
       "Saser Kangri III              False\n",
       "Lupghar Sar                   False\n",
       "Saser Kangri II E             False\n",
       "Name: Height (m), Length: 110, dtype: bool"
      ]
     },
     "execution_count": 53,
     "metadata": {},
     "output_type": "execute_result"
    }
   ],
   "source": [
    "df[\"Height (m)\"] > 8000"
   ]
  },
  {
   "cell_type": "code",
   "execution_count": 54,
   "id": "dea9fb4a-6540-40b1-8d93-17b2c6495703",
   "metadata": {},
   "outputs": [],
   "source": [
    "# Actually store these true and false values in a new variable call high\n",
    "\n",
    "high = df[\"Height (m)\"] > 8000\n"
   ]
  },
  {
   "cell_type": "code",
   "execution_count": 55,
   "id": "9b626036-2d91-48f5-ba2b-ece3de15d876",
   "metadata": {},
   "outputs": [
    {
     "data": {
      "text/plain": [
       "Mountain\n",
       "Nanga Parbat                  True\n",
       "Makalu                        True\n",
       "Annapurna I                   True\n",
       "Manaslu                       True\n",
       "K2 / Qogir / Godwin Austen    True\n",
       "Name: Height (m), dtype: bool"
      ]
     },
     "execution_count": 55,
     "metadata": {},
     "output_type": "execute_result"
    }
   ],
   "source": [
    "high.head(5) "
   ]
  },
  {
   "cell_type": "code",
   "execution_count": 56,
   "id": "32bc3810-f321-4d97-8970-2456cca733b5",
   "metadata": {},
   "outputs": [
    {
     "data": {
      "text/plain": [
       "Mountain\n",
       "Baltoro Kangri       False\n",
       "Gyala Peri           False\n",
       "Saser Kangri III     False\n",
       "Lupghar Sar          False\n",
       "Saser Kangri II E    False\n",
       "Name: Height (m), dtype: bool"
      ]
     },
     "execution_count": 56,
     "metadata": {},
     "output_type": "execute_result"
    }
   ],
   "source": [
    "high.tail(5)"
   ]
  },
  {
   "cell_type": "code",
   "execution_count": 57,
   "id": "f178ae55-dd96-42cc-8f56-c475de411a1c",
   "metadata": {},
   "outputs": [
    {
     "data": {
      "text/plain": [
       "Mountain\n",
       "Nanga Parbat                       1953\n",
       "Makalu                             1955\n",
       "Annapurna I                        1950\n",
       "Manaslu                            1956\n",
       "K2 / Qogir / Godwin Austen         1954\n",
       "Dhaulagiri I                       1960\n",
       "Cho Oyu                            1954\n",
       "Lhotse                             1956\n",
       "Kangchenjunga                      1955\n",
       "Shishapangma                       1964\n",
       "Broad Peak / K3                    1957\n",
       "Gasherbrum II / K4                 1956\n",
       "Gasherbrum I / Hidden Peak / K5    1958\n",
       "Name: First ascent, dtype: int64"
      ]
     },
     "execution_count": 57,
     "metadata": {},
     "output_type": "execute_result"
    }
   ],
   "source": [
    "# Separate the column of \"First ascent\" into two part based on newly created high variable \n",
    "# loc is important to study more and useful for selecting data from DataFrame\n",
    "# We can see Panda returns mountain which are more than 8000 m\n",
    "\n",
    "df.loc[high, \"First ascent\"] # The first parameter tells which rows to select, the second tells which columns to select"
   ]
  },
  {
   "cell_type": "code",
   "execution_count": 59,
   "id": "ab808e8d-834c-491a-8c18-978e8832d8fa",
   "metadata": {},
   "outputs": [
    {
     "data": {
      "text/plain": [
       "Mountain\n",
       "Annapurna II                1960\n",
       "Baintha Brakk / The Ogre    1977\n",
       "Annapurna III               1961\n",
       "Dhaulagiri IV               1975\n",
       "Annapurna Dakshin           1964\n",
       "                            ... \n",
       "Baltoro Kangri              1976\n",
       "Gyala Peri                  1986\n",
       "Saser Kangri III            1986\n",
       "Lupghar Sar                 1979\n",
       "Saser Kangri II E           2011\n",
       "Name: First ascent, Length: 97, dtype: int64"
      ]
     },
     "execution_count": 59,
     "metadata": {},
     "output_type": "execute_result"
    }
   ],
   "source": [
    "# We can get the rest of the entries with the following command\n",
    "# To get the remaining mountains that are lower or equal 8000 m\n",
    "# The unary tilde operator ~ flips the boolean values of the list to separate between the two groups as we wanted.\n",
    "\n",
    "df.loc[~high, \"First ascent\"]\n"
   ]
  },
  {
   "cell_type": "code",
   "execution_count": 60,
   "id": "4c618098-fa02-4700-9de6-83c19ade15b0",
   "metadata": {},
   "outputs": [
    {
     "data": {
      "image/png": "[encoded data removed]",
      "text/plain": [
       "<Figure size 432x288 with 1 Axes>"
      ]
     },
     "metadata": {
      "needs_background": "light"
     },
     "output_type": "display_data"
    }
   ],
   "source": [
    "plt.hist(\n",
    "    [df.loc[high, \"First ascent\"], df.loc[~high, \"First ascent\"]],\n",
    "    stacked=True,\n",
    "    edgecolor=\"black\",\n",
    "    bins=20,\n",
    ")\n",
    "\n",
    "plt.legend([\"over 8000m\", \"under 8000m\"], loc= \"upper right\")\n",
    "plt.xlabel(\"Year\")\n",
    "plt.ylabel(\"Number of first ascents\")\n",
    "plt.show()"
   ]
  },
  {
   "cell_type": "markdown",
   "id": "92fb2add-2f14-48cb-80b2-7c2ff195b420",
   "metadata": {},
   "source": [
    "### Scatter Plots\n",
    "\n",
    "Two variables to plot"
   ]
  },
  {
   "cell_type": "code",
   "execution_count": 61,
   "id": "ae2fe485-9132-40fc-b862-4356c7e3151b",
   "metadata": {},
   "outputs": [
    {
     "data": {
      "image/png": "[encoded data removed]",
      "text/plain": [
       "<Figure size 432x288 with 1 Axes>"
      ]
     },
     "metadata": {
      "needs_background": "light"
     },
     "output_type": "display_data"
    }
   ],
   "source": [
    "# scatter plot\n",
    "\n",
    "plt.scatter(df[\"Height (m)\"], df[\"Total attempts\"])\n",
    "plt.show()"
   ]
  },
  {
   "cell_type": "code",
   "execution_count": 63,
   "id": "7242ba09-460a-4333-81ca-acb1cb373c1d",
   "metadata": {},
   "outputs": [
    {
     "data": {
      "image/png": "[encoded data removed]",
      "text/plain": [
       "<Figure size 432x288 with 1 Axes>"
      ]
     },
     "metadata": {
      "needs_background": "light"
     },
     "output_type": "display_data"
    }
   ],
   "source": [
    "plt.scatter(df[\"Height (m)\"], df[\"Total attempts\"], color=\"red\", edgecolor=\"black\")\n",
    "plt.ylabel(\"Total attempts\")\n",
    "plt.xlabel(\"Mountain height\")\n",
    "plt.title(\"Number of total attempts vs mountain height\", fontsize=14)\n",
    "plt.show()"
   ]
  },
  {
   "cell_type": "code",
   "execution_count": null,
   "id": "d3a8a099-d040-4ad0-84df-7b012b0d0b39",
   "metadata": {},
   "outputs": [],
   "source": []
  }
 ],
 "metadata": {
  "kernelspec": {
   "display_name": "Python [conda env:adsml] *",
   "language": "python",
   "name": "conda-env-adsml-py"
  },
  "language_info": {
   "codemirror_mode": {
    "name": "ipython",
    "version": 3
   },
   "file_extension": ".py",
   "mimetype": "text/x-python",
   "name": "python",
   "nbconvert_exporter": "python",
   "pygments_lexer": "ipython3",
   "version": "3.9.7"
  }
 },
 "nbformat": 4,
 "nbformat_minor": 5
}
