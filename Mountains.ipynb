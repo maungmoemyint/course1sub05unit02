{
 "cells": [
  {
   "cell_type": "markdown",
   "id": "914c7e3a-070d-49ef-bf03-affffe4ab2ba",
   "metadata": {},
   "source": [
    "# Questions to answer\n",
    "\n",
    "- Which are the most difficult mountains to climb?\n",
    "- What were the most popular years for climbing?\n",
    "- Are taller mountains more difficult to climb?\n",
    "- Are mountains over 8000m more popular for climbing?\n",
    "- Which mountain ranges contain the highest mountains?"
   ]
  },
  {
   "cell_type": "code",
   "execution_count": null,
   "id": "53e810aa-f880-4502-a9b0-61d9a4f06e00",
   "metadata": {},
   "outputs": [],
   "source": [
    "import pandas as pd"
   ]
  },
  {
   "cell_type": "code",
   "execution_count": null,
   "id": "a76db124-30c0-4cb1-a57d-d97aa28214e3",
   "metadata": {},
   "outputs": [],
   "source": [
    "df = pd.read_csv(\"mountains.csv\")"
   ]
  },
  {
   "cell_type": "code",
   "execution_count": null,
   "id": "4bffb056-50cf-4de4-ab40-cf2ba824ea82",
   "metadata": {},
   "outputs": [],
   "source": [
    "df.head(5)"
   ]
  },
  {
   "cell_type": "code",
   "execution_count": null,
   "id": "d7d45c63-e06d-4fcc-b480-ff33d3748203",
   "metadata": {},
   "outputs": [],
   "source": [
    "df.info()"
   ]
  },
  {
   "cell_type": "code",
   "execution_count": null,
   "id": "22d9c589-e033-413d-b802-5c5b8be5b9d0",
   "metadata": {},
   "outputs": [],
   "source": [
    "df.dtypes # () not required"
   ]
  },
  {
   "cell_type": "code",
   "execution_count": null,
   "id": "10d76f4d-b383-41c4-a4d3-9a3456206150",
   "metadata": {},
   "outputs": [],
   "source": [
    "df.describe()"
   ]
  },
  {
   "cell_type": "code",
   "execution_count": null,
   "id": "66320c4c-cb9f-4ceb-98ae-657bd0da5cea",
   "metadata": {},
   "outputs": [],
   "source": [
    "df.set_index(\"Mountain\", inplace=True)"
   ]
  },
  {
   "cell_type": "code",
   "execution_count": null,
   "id": "240a4644-0216-455c-8e5b-ca480adaebb3",
   "metadata": {},
   "outputs": [],
   "source": [
    "df.head(5)"
   ]
  },
  {
   "cell_type": "code",
   "execution_count": null,
   "id": "2267bc14-cc49-4162-a7f3-f77c77912f66",
   "metadata": {},
   "outputs": [],
   "source": [
    "#Dropping column\n",
    "\n",
    "df.drop([\"Rank\", \"Height (ft)\", \"Coordinates\", \"Parent mountain\"], axis=1, inplace=True) # axis = 1 means columns"
   ]
  },
  {
   "cell_type": "code",
   "execution_count": null,
   "id": "745333eb-66fa-4233-909b-54b0a6461959",
   "metadata": {},
   "outputs": [],
   "source": [
    "df.head(5)"
   ]
  },
  {
   "cell_type": "code",
   "execution_count": null,
   "id": "8b7a311d-7e77-4ff5-94d3-f90b60a94ca4",
   "metadata": {},
   "outputs": [],
   "source": [
    "df.loc[\"Muztagh Ata\"]"
   ]
  },
  {
   "cell_type": "code",
   "execution_count": null,
   "id": "2297da91-1796-4ddb-b583-b9133accf9a6",
   "metadata": {},
   "outputs": [],
   "source": [
    "df.drop(\n",
    "    [\"Mount Everest / Sagarmatha / Chomolungma\", \"Muztagh Ata\"], axis = 0, inplace = True\n",
    ")"
   ]
  },
  {
   "cell_type": "code",
   "execution_count": null,
   "id": "a287bf35-4ebc-4e76-b0b6-455ed9715c16",
   "metadata": {},
   "outputs": [],
   "source": [
    "df.head(5)"
   ]
  },
  {
   "cell_type": "markdown",
   "id": "37948d6c-4ff5-4ff2-a562-152602e9384c",
   "metadata": {},
   "source": [
    "#### Selecting entries based on Boolean condition"
   ]
  },
  {
   "cell_type": "code",
   "execution_count": 34,
   "id": "1ed3ade3-c20e-4f41-81a4-51d61e187d04",
   "metadata": {},
   "outputs": [
    {
     "data": {
      "text/html": [
       "<div>\n",
       "<style scoped>\n",
       "    .dataframe tbody tr th:only-of-type {\n",
       "        vertical-align: middle;\n",
       "    }\n",
       "\n",
       "    .dataframe tbody tr th {\n",
       "        vertical-align: top;\n",
       "    }\n",
       "\n",
       "    .dataframe thead th {\n",
       "        text-align: right;\n",
       "    }\n",
       "</style>\n",
       "<table border=\"1\" class=\"dataframe\">\n",
       "  <thead>\n",
       "    <tr style=\"text-align: right;\">\n",
       "      <th></th>\n",
       "      <th>Height (m)</th>\n",
       "      <th>Prominence (m)</th>\n",
       "      <th>Range</th>\n",
       "      <th>First ascent</th>\n",
       "      <th>Ascents bef. 2004</th>\n",
       "      <th>Failed attempts bef. 2004</th>\n",
       "    </tr>\n",
       "    <tr>\n",
       "      <th>Mountain</th>\n",
       "      <th></th>\n",
       "      <th></th>\n",
       "      <th></th>\n",
       "      <th></th>\n",
       "      <th></th>\n",
       "      <th></th>\n",
       "    </tr>\n",
       "  </thead>\n",
       "  <tbody>\n",
       "    <tr>\n",
       "      <th>Gangkhar Puensum</th>\n",
       "      <td>7570</td>\n",
       "      <td>2995</td>\n",
       "      <td>Kula Kangri Himalaya</td>\n",
       "      <td>unclimbed</td>\n",
       "      <td>0</td>\n",
       "      <td>3.0</td>\n",
       "    </tr>\n",
       "    <tr>\n",
       "      <th>Labuche Kang III / East</th>\n",
       "      <td>7250</td>\n",
       "      <td>570</td>\n",
       "      <td>Labuche Himalaya</td>\n",
       "      <td>unclimbed</td>\n",
       "      <td>0</td>\n",
       "      <td>0.0</td>\n",
       "    </tr>\n",
       "    <tr>\n",
       "      <th>Karjiang</th>\n",
       "      <td>7221</td>\n",
       "      <td>880</td>\n",
       "      <td>Kula Kangri Himalaya</td>\n",
       "      <td>unclimbed</td>\n",
       "      <td>0</td>\n",
       "      <td>2.0</td>\n",
       "    </tr>\n",
       "    <tr>\n",
       "      <th>Tongshanjiabu</th>\n",
       "      <td>7207</td>\n",
       "      <td>1757</td>\n",
       "      <td>Lunana Himalaya</td>\n",
       "      <td>unclimbed</td>\n",
       "      <td>0</td>\n",
       "      <td>0.0</td>\n",
       "    </tr>\n",
       "  </tbody>\n",
       "</table>\n",
       "</div>"
      ],
      "text/plain": [
       "                         Height (m)  Prominence (m)                 Range  \\\n",
       "Mountain                                                                    \n",
       "Gangkhar Puensum               7570            2995  Kula Kangri Himalaya   \n",
       "Labuche Kang III / East        7250             570      Labuche Himalaya   \n",
       "Karjiang                       7221             880  Kula Kangri Himalaya   \n",
       "Tongshanjiabu                  7207            1757       Lunana Himalaya   \n",
       "\n",
       "                        First ascent Ascents bef. 2004  \\\n",
       "Mountain                                                 \n",
       "Gangkhar Puensum           unclimbed                 0   \n",
       "Labuche Kang III / East    unclimbed                 0   \n",
       "Karjiang                   unclimbed                 0   \n",
       "Tongshanjiabu              unclimbed                 0   \n",
       "\n",
       "                         Failed attempts bef. 2004  \n",
       "Mountain                                            \n",
       "Gangkhar Puensum                               3.0  \n",
       "Labuche Kang III / East                        0.0  \n",
       "Karjiang                                       2.0  \n",
       "Tongshanjiabu                                  0.0  "
      ]
     },
     "execution_count": 34,
     "metadata": {},
     "output_type": "execute_result"
    }
   ],
   "source": [
    "df[df[\"First ascent\"]== \"unclimbed\"]"
   ]
  },
  {
   "cell_type": "code",
   "execution_count": 35,
   "id": "ee52ccc1-030b-446f-b593-c4a8331f1e1f",
   "metadata": {},
   "outputs": [
    {
     "data": {
      "text/plain": [
       "Mountain\n",
       "K2 / Qogir / Godwin Austen      1954\n",
       "Kangchenjunga                   1955\n",
       "Lhotse                          1956\n",
       "Makalu                          1955\n",
       "Cho Oyu                         1954\n",
       "                                ... \n",
       "Noijin Kangsang / Norin Kang    1986\n",
       "Langtang Ri                     1981\n",
       "Kangphu Kang                    2002\n",
       "Singhi Kangri                   1976\n",
       "Lupghar Sar                     1979\n",
       "Name: First ascent, Length: 116, dtype: object"
      ]
     },
     "execution_count": 35,
     "metadata": {},
     "output_type": "execute_result"
    }
   ],
   "source": [
    "df[\"First ascent\"]"
   ]
  },
  {
   "cell_type": "code",
   "execution_count": 36,
   "id": "fc4165e0-5cb9-4335-b5b6-3d1297ad9495",
   "metadata": {},
   "outputs": [
    {
     "data": {
      "text/plain": [
       "Mountain\n",
       "K2 / Qogir / Godwin Austen      False\n",
       "Kangchenjunga                   False\n",
       "Lhotse                          False\n",
       "Makalu                          False\n",
       "Cho Oyu                         False\n",
       "                                ...  \n",
       "Noijin Kangsang / Norin Kang    False\n",
       "Langtang Ri                     False\n",
       "Kangphu Kang                    False\n",
       "Singhi Kangri                   False\n",
       "Lupghar Sar                     False\n",
       "Name: First ascent, Length: 116, dtype: bool"
      ]
     },
     "execution_count": 36,
     "metadata": {},
     "output_type": "execute_result"
    }
   ],
   "source": [
    "df[\"First ascent\"]== \"unclimbed\""
   ]
  },
  {
   "cell_type": "code",
   "execution_count": 37,
   "id": "2ca5a155-87d1-4a52-ab74-e23384117d57",
   "metadata": {},
   "outputs": [],
   "source": [
    "# We want only climbed mountain\n",
    "# In general when selecting a subset of a DataFrame and reassigning it to same\n",
    "# variable (or a new variable) it is a good practice to use the copy() method.\n",
    "\n",
    "df = df[df[\"First ascent\"]!= \"unclimbed\"].copy()"
   ]
  },
  {
   "cell_type": "code",
   "execution_count": 38,
   "id": "45bc23b1-d47d-4c20-a4b3-c3ad7a301782",
   "metadata": {},
   "outputs": [
    {
     "name": "stdout",
     "output_type": "stream",
     "text": [
      "<class 'pandas.core.frame.DataFrame'>\n",
      "Index: 112 entries, K2 / Qogir / Godwin Austen to Lupghar Sar\n",
      "Data columns (total 6 columns):\n",
      " #   Column                     Non-Null Count  Dtype  \n",
      "---  ------                     --------------  -----  \n",
      " 0   Height (m)                 112 non-null    int64  \n",
      " 1   Prominence (m)             112 non-null    int64  \n",
      " 2   Range                      112 non-null    object \n",
      " 3   First ascent               112 non-null    object \n",
      " 4   Ascents bef. 2004          110 non-null    object \n",
      " 5   Failed attempts bef. 2004  110 non-null    float64\n",
      "dtypes: float64(1), int64(2), object(3)\n",
      "memory usage: 6.1+ KB\n"
     ]
    }
   ],
   "source": [
    "df.info()"
   ]
  },
  {
   "cell_type": "code",
   "execution_count": 39,
   "id": "b0ed0a68-71aa-4135-ac9e-3062e78e79d5",
   "metadata": {},
   "outputs": [
    {
     "data": {
      "text/plain": [
       "Mountain\n",
       "K2 / Qogir / Godwin Austen       True\n",
       "Kangchenjunga                    True\n",
       "Lhotse                           True\n",
       "Makalu                           True\n",
       "Cho Oyu                          True\n",
       "                                ...  \n",
       "Noijin Kangsang / Norin Kang    False\n",
       "Langtang Ri                     False\n",
       "Kangphu Kang                    False\n",
       "Singhi Kangri                   False\n",
       "Lupghar Sar                     False\n",
       "Name: Height (m), Length: 112, dtype: bool"
      ]
     },
     "execution_count": 39,
     "metadata": {},
     "output_type": "execute_result"
    }
   ],
   "source": [
    "# Look at another example - to select all mountains that are over 8000 m\n",
    "\n",
    "df[\"Height (m)\"] > 8000"
   ]
  },
  {
   "cell_type": "code",
   "execution_count": 40,
   "id": "8297a012-78f9-4428-868c-b7bafd6ede94",
   "metadata": {},
   "outputs": [
    {
     "data": {
      "text/html": [
       "<div>\n",
       "<style scoped>\n",
       "    .dataframe tbody tr th:only-of-type {\n",
       "        vertical-align: middle;\n",
       "    }\n",
       "\n",
       "    .dataframe tbody tr th {\n",
       "        vertical-align: top;\n",
       "    }\n",
       "\n",
       "    .dataframe thead th {\n",
       "        text-align: right;\n",
       "    }\n",
       "</style>\n",
       "<table border=\"1\" class=\"dataframe\">\n",
       "  <thead>\n",
       "    <tr style=\"text-align: right;\">\n",
       "      <th></th>\n",
       "      <th>Height (m)</th>\n",
       "      <th>Prominence (m)</th>\n",
       "      <th>Range</th>\n",
       "      <th>First ascent</th>\n",
       "      <th>Ascents bef. 2004</th>\n",
       "      <th>Failed attempts bef. 2004</th>\n",
       "    </tr>\n",
       "    <tr>\n",
       "      <th>Mountain</th>\n",
       "      <th></th>\n",
       "      <th></th>\n",
       "      <th></th>\n",
       "      <th></th>\n",
       "      <th></th>\n",
       "      <th></th>\n",
       "    </tr>\n",
       "  </thead>\n",
       "  <tbody>\n",
       "    <tr>\n",
       "      <th>K2 / Qogir / Godwin Austen</th>\n",
       "      <td>8611</td>\n",
       "      <td>4017</td>\n",
       "      <td>Baltoro Karakoram</td>\n",
       "      <td>1954</td>\n",
       "      <td>45</td>\n",
       "      <td>44.0</td>\n",
       "    </tr>\n",
       "    <tr>\n",
       "      <th>Kangchenjunga</th>\n",
       "      <td>8586</td>\n",
       "      <td>3922</td>\n",
       "      <td>Kangchenjunga Himalaya</td>\n",
       "      <td>1955</td>\n",
       "      <td>38</td>\n",
       "      <td>24.0</td>\n",
       "    </tr>\n",
       "    <tr>\n",
       "      <th>Lhotse</th>\n",
       "      <td>8516</td>\n",
       "      <td>610</td>\n",
       "      <td>Mahalangur Himalaya</td>\n",
       "      <td>1956</td>\n",
       "      <td>26</td>\n",
       "      <td>26.0</td>\n",
       "    </tr>\n",
       "    <tr>\n",
       "      <th>Makalu</th>\n",
       "      <td>8485</td>\n",
       "      <td>2386</td>\n",
       "      <td>Mahalangur Himalaya</td>\n",
       "      <td>1955</td>\n",
       "      <td>45</td>\n",
       "      <td>52.0</td>\n",
       "    </tr>\n",
       "    <tr>\n",
       "      <th>Cho Oyu</th>\n",
       "      <td>8188</td>\n",
       "      <td>2340</td>\n",
       "      <td>Mahalangur Himalaya</td>\n",
       "      <td>1954</td>\n",
       "      <td>79</td>\n",
       "      <td>28.0</td>\n",
       "    </tr>\n",
       "  </tbody>\n",
       "</table>\n",
       "</div>"
      ],
      "text/plain": [
       "                            Height (m)  Prominence (m)  \\\n",
       "Mountain                                                 \n",
       "K2 / Qogir / Godwin Austen        8611            4017   \n",
       "Kangchenjunga                     8586            3922   \n",
       "Lhotse                            8516             610   \n",
       "Makalu                            8485            2386   \n",
       "Cho Oyu                           8188            2340   \n",
       "\n",
       "                                             Range First ascent  \\\n",
       "Mountain                                                          \n",
       "K2 / Qogir / Godwin Austen       Baltoro Karakoram         1954   \n",
       "Kangchenjunga               Kangchenjunga Himalaya         1955   \n",
       "Lhotse                         Mahalangur Himalaya         1956   \n",
       "Makalu                         Mahalangur Himalaya         1955   \n",
       "Cho Oyu                        Mahalangur Himalaya         1954   \n",
       "\n",
       "                           Ascents bef. 2004  Failed attempts bef. 2004  \n",
       "Mountain                                                                 \n",
       "K2 / Qogir / Godwin Austen                45                       44.0  \n",
       "Kangchenjunga                             38                       24.0  \n",
       "Lhotse                                    26                       26.0  \n",
       "Makalu                                    45                       52.0  \n",
       "Cho Oyu                                   79                       28.0  "
      ]
     },
     "execution_count": 40,
     "metadata": {},
     "output_type": "execute_result"
    }
   ],
   "source": [
    "# Then select only mountains greater than 8000 m as the list\n",
    "\n",
    "df[df[\"Height (m)\"] > 8000].head()"
   ]
  },
  {
   "cell_type": "code",
   "execution_count": 41,
   "id": "b66e6c6c-459a-4ef1-8325-f588fe1ecc9a",
   "metadata": {},
   "outputs": [
    {
     "data": {
      "text/html": [
       "<div>\n",
       "<style scoped>\n",
       "    .dataframe tbody tr th:only-of-type {\n",
       "        vertical-align: middle;\n",
       "    }\n",
       "\n",
       "    .dataframe tbody tr th {\n",
       "        vertical-align: top;\n",
       "    }\n",
       "\n",
       "    .dataframe thead th {\n",
       "        text-align: right;\n",
       "    }\n",
       "</style>\n",
       "<table border=\"1\" class=\"dataframe\">\n",
       "  <thead>\n",
       "    <tr style=\"text-align: right;\">\n",
       "      <th></th>\n",
       "      <th>Height (m)</th>\n",
       "      <th>Prominence (m)</th>\n",
       "      <th>Range</th>\n",
       "      <th>First ascent</th>\n",
       "      <th>Ascents bef. 2004</th>\n",
       "      <th>Failed attempts bef. 2004</th>\n",
       "    </tr>\n",
       "    <tr>\n",
       "      <th>Mountain</th>\n",
       "      <th></th>\n",
       "      <th></th>\n",
       "      <th></th>\n",
       "      <th></th>\n",
       "      <th></th>\n",
       "      <th></th>\n",
       "    </tr>\n",
       "  </thead>\n",
       "  <tbody>\n",
       "    <tr>\n",
       "      <th>Annapurna I</th>\n",
       "      <td>8091</td>\n",
       "      <td>2984</td>\n",
       "      <td>Annapurna Himalaya</td>\n",
       "      <td>1950</td>\n",
       "      <td>36</td>\n",
       "      <td>47.0</td>\n",
       "    </tr>\n",
       "    <tr>\n",
       "      <th>Annapurna II</th>\n",
       "      <td>7937</td>\n",
       "      <td>2437</td>\n",
       "      <td>Annapurna Himalaya</td>\n",
       "      <td>1960</td>\n",
       "      <td>6</td>\n",
       "      <td>19.0</td>\n",
       "    </tr>\n",
       "    <tr>\n",
       "      <th>Annapurna III</th>\n",
       "      <td>7555</td>\n",
       "      <td>703</td>\n",
       "      <td>Annapurna Himalaya</td>\n",
       "      <td>1961</td>\n",
       "      <td>10</td>\n",
       "      <td>17.0</td>\n",
       "    </tr>\n",
       "    <tr>\n",
       "      <th>Gangapurna</th>\n",
       "      <td>7455</td>\n",
       "      <td>563</td>\n",
       "      <td>Annapurna Himalaya</td>\n",
       "      <td>1965</td>\n",
       "      <td>8</td>\n",
       "      <td>13.0</td>\n",
       "    </tr>\n",
       "    <tr>\n",
       "      <th>Annapurna Dakshin</th>\n",
       "      <td>7219</td>\n",
       "      <td>775</td>\n",
       "      <td>Annapurna Himalaya</td>\n",
       "      <td>1964</td>\n",
       "      <td>10</td>\n",
       "      <td>16.0</td>\n",
       "    </tr>\n",
       "  </tbody>\n",
       "</table>\n",
       "</div>"
      ],
      "text/plain": [
       "                   Height (m)  Prominence (m)               Range  \\\n",
       "Mountain                                                            \n",
       "Annapurna I              8091            2984  Annapurna Himalaya   \n",
       "Annapurna II             7937            2437  Annapurna Himalaya   \n",
       "Annapurna III            7555             703  Annapurna Himalaya   \n",
       "Gangapurna               7455             563  Annapurna Himalaya   \n",
       "Annapurna Dakshin        7219             775  Annapurna Himalaya   \n",
       "\n",
       "                  First ascent Ascents bef. 2004  Failed attempts bef. 2004  \n",
       "Mountain                                                                     \n",
       "Annapurna I               1950                36                       47.0  \n",
       "Annapurna II              1960                 6                       19.0  \n",
       "Annapurna III             1961                10                       17.0  \n",
       "Gangapurna                1965                 8                       13.0  \n",
       "Annapurna Dakshin         1964                10                       16.0  "
      ]
     },
     "execution_count": 41,
     "metadata": {},
     "output_type": "execute_result"
    }
   ],
   "source": [
    "# To get the mountains that are in the Annapurna Himalaya range\n",
    "\n",
    "df[df['Range'] == 'Annapurna Himalaya']"
   ]
  },
  {
   "cell_type": "code",
   "execution_count": 42,
   "id": "9563b2d4-d66b-44e8-a5fe-5c595e99f017",
   "metadata": {},
   "outputs": [
    {
     "name": "stdout",
     "output_type": "stream",
     "text": [
      "<class 'pandas.core.frame.DataFrame'>\n",
      "Index: 112 entries, K2 / Qogir / Godwin Austen to Lupghar Sar\n",
      "Data columns (total 6 columns):\n",
      " #   Column                     Non-Null Count  Dtype  \n",
      "---  ------                     --------------  -----  \n",
      " 0   Height (m)                 112 non-null    int64  \n",
      " 1   Prominence (m)             112 non-null    int64  \n",
      " 2   Range                      112 non-null    object \n",
      " 3   First ascent               112 non-null    object \n",
      " 4   Ascents bef. 2004          110 non-null    object \n",
      " 5   Failed attempts bef. 2004  110 non-null    float64\n",
      "dtypes: float64(1), int64(2), object(3)\n",
      "memory usage: 10.2+ KB\n"
     ]
    }
   ],
   "source": [
    "df.info() # There are some null records"
   ]
  },
  {
   "cell_type": "code",
   "execution_count": 43,
   "id": "5c71beae-1c20-4cea-a02d-71ebdd3519e1",
   "metadata": {},
   "outputs": [],
   "source": [
    "# Remove the records that contains null values\n",
    "\n",
    "df.dropna(inplace=True)"
   ]
  },
  {
   "cell_type": "code",
   "execution_count": 44,
   "id": "4a874bf5-00a3-430c-bafa-e2b120bab823",
   "metadata": {},
   "outputs": [
    {
     "name": "stdout",
     "output_type": "stream",
     "text": [
      "<class 'pandas.core.frame.DataFrame'>\n",
      "Index: 110 entries, K2 / Qogir / Godwin Austen to Lupghar Sar\n",
      "Data columns (total 6 columns):\n",
      " #   Column                     Non-Null Count  Dtype  \n",
      "---  ------                     --------------  -----  \n",
      " 0   Height (m)                 110 non-null    int64  \n",
      " 1   Prominence (m)             110 non-null    int64  \n",
      " 2   Range                      110 non-null    object \n",
      " 3   First ascent               110 non-null    object \n",
      " 4   Ascents bef. 2004          110 non-null    object \n",
      " 5   Failed attempts bef. 2004  110 non-null    float64\n",
      "dtypes: float64(1), int64(2), object(3)\n",
      "memory usage: 6.0+ KB\n"
     ]
    }
   ],
   "source": [
    "df.info()"
   ]
  },
  {
   "cell_type": "code",
   "execution_count": 45,
   "id": "c548b8c1-3677-4c54-9754-eca491fbe74a",
   "metadata": {},
   "outputs": [
    {
     "data": {
      "text/plain": [
       "Height (m)                     int64\n",
       "Prominence (m)                 int64\n",
       "Range                         object\n",
       "First ascent                  object\n",
       "Ascents bef. 2004             object\n",
       "Failed attempts bef. 2004    float64\n",
       "dtype: object"
      ]
     },
     "execution_count": 45,
     "metadata": {},
     "output_type": "execute_result"
    }
   ],
   "source": [
    "# Fixing data types\n",
    "\n",
    "df.dtypes"
   ]
  },
  {
   "cell_type": "code",
   "execution_count": 46,
   "id": "51c61214-6c39-4541-b909-8cd2b2833f0e",
   "metadata": {},
   "outputs": [
    {
     "data": {
      "text/html": [
       "<div>\n",
       "<style scoped>\n",
       "    .dataframe tbody tr th:only-of-type {\n",
       "        vertical-align: middle;\n",
       "    }\n",
       "\n",
       "    .dataframe tbody tr th {\n",
       "        vertical-align: top;\n",
       "    }\n",
       "\n",
       "    .dataframe thead th {\n",
       "        text-align: right;\n",
       "    }\n",
       "</style>\n",
       "<table border=\"1\" class=\"dataframe\">\n",
       "  <thead>\n",
       "    <tr style=\"text-align: right;\">\n",
       "      <th></th>\n",
       "      <th>Height (m)</th>\n",
       "      <th>Prominence (m)</th>\n",
       "      <th>Range</th>\n",
       "      <th>First ascent</th>\n",
       "      <th>Ascents bef. 2004</th>\n",
       "      <th>Failed attempts bef. 2004</th>\n",
       "    </tr>\n",
       "    <tr>\n",
       "      <th>Mountain</th>\n",
       "      <th></th>\n",
       "      <th></th>\n",
       "      <th></th>\n",
       "      <th></th>\n",
       "      <th></th>\n",
       "      <th></th>\n",
       "    </tr>\n",
       "  </thead>\n",
       "  <tbody>\n",
       "    <tr>\n",
       "      <th>K2 / Qogir / Godwin Austen</th>\n",
       "      <td>8611</td>\n",
       "      <td>4017</td>\n",
       "      <td>Baltoro Karakoram</td>\n",
       "      <td>1954</td>\n",
       "      <td>45</td>\n",
       "      <td>44.0</td>\n",
       "    </tr>\n",
       "    <tr>\n",
       "      <th>Kangchenjunga</th>\n",
       "      <td>8586</td>\n",
       "      <td>3922</td>\n",
       "      <td>Kangchenjunga Himalaya</td>\n",
       "      <td>1955</td>\n",
       "      <td>38</td>\n",
       "      <td>24.0</td>\n",
       "    </tr>\n",
       "    <tr>\n",
       "      <th>Lhotse</th>\n",
       "      <td>8516</td>\n",
       "      <td>610</td>\n",
       "      <td>Mahalangur Himalaya</td>\n",
       "      <td>1956</td>\n",
       "      <td>26</td>\n",
       "      <td>26.0</td>\n",
       "    </tr>\n",
       "    <tr>\n",
       "      <th>Makalu</th>\n",
       "      <td>8485</td>\n",
       "      <td>2386</td>\n",
       "      <td>Mahalangur Himalaya</td>\n",
       "      <td>1955</td>\n",
       "      <td>45</td>\n",
       "      <td>52.0</td>\n",
       "    </tr>\n",
       "    <tr>\n",
       "      <th>Cho Oyu</th>\n",
       "      <td>8188</td>\n",
       "      <td>2340</td>\n",
       "      <td>Mahalangur Himalaya</td>\n",
       "      <td>1954</td>\n",
       "      <td>79</td>\n",
       "      <td>28.0</td>\n",
       "    </tr>\n",
       "  </tbody>\n",
       "</table>\n",
       "</div>"
      ],
      "text/plain": [
       "                            Height (m)  Prominence (m)  \\\n",
       "Mountain                                                 \n",
       "K2 / Qogir / Godwin Austen        8611            4017   \n",
       "Kangchenjunga                     8586            3922   \n",
       "Lhotse                            8516             610   \n",
       "Makalu                            8485            2386   \n",
       "Cho Oyu                           8188            2340   \n",
       "\n",
       "                                             Range First ascent  \\\n",
       "Mountain                                                          \n",
       "K2 / Qogir / Godwin Austen       Baltoro Karakoram         1954   \n",
       "Kangchenjunga               Kangchenjunga Himalaya         1955   \n",
       "Lhotse                         Mahalangur Himalaya         1956   \n",
       "Makalu                         Mahalangur Himalaya         1955   \n",
       "Cho Oyu                        Mahalangur Himalaya         1954   \n",
       "\n",
       "                           Ascents bef. 2004  Failed attempts bef. 2004  \n",
       "Mountain                                                                 \n",
       "K2 / Qogir / Godwin Austen                45                       44.0  \n",
       "Kangchenjunga                             38                       24.0  \n",
       "Lhotse                                    26                       26.0  \n",
       "Makalu                                    45                       52.0  \n",
       "Cho Oyu                                   79                       28.0  "
      ]
     },
     "execution_count": 46,
     "metadata": {},
     "output_type": "execute_result"
    }
   ],
   "source": [
    "df.head(5)"
   ]
  },
  {
   "cell_type": "markdown",
   "id": "7d631bac-a463-4242-aace-7e044d41591e",
   "metadata": {},
   "source": [
    "### Chane the data type integer to First ascent, Ascents before. 2004 and Failed attempts before. 2004"
   ]
  },
  {
   "cell_type": "code",
   "execution_count": 47,
   "id": "49eafc90-f966-4b03-baa9-cfc2a16c15f2",
   "metadata": {},
   "outputs": [],
   "source": [
    "df[\"First ascent\"] = df[\"First ascent\"].astype(int)"
   ]
  },
  {
   "cell_type": "code",
   "execution_count": 48,
   "id": "0824d95a-fcc3-4270-8504-0090fade9e05",
   "metadata": {},
   "outputs": [],
   "source": [
    "df[\"Ascents bef. 2004\"] = df[\"Ascents bef. 2004\"].astype(int)"
   ]
  },
  {
   "cell_type": "code",
   "execution_count": 49,
   "id": "ff140e21-301a-4130-a74c-1e27739c4d3e",
   "metadata": {},
   "outputs": [],
   "source": [
    "df[\"Failed attempts bef. 2004\"] = df[\"Failed attempts bef. 2004\"].astype(int)"
   ]
  },
  {
   "cell_type": "code",
   "execution_count": 50,
   "id": "bad9d51a-bfdb-46f9-9f50-031a9188d0b8",
   "metadata": {},
   "outputs": [
    {
     "data": {
      "text/plain": [
       "Height (m)                    int64\n",
       "Prominence (m)                int64\n",
       "Range                        object\n",
       "First ascent                  int64\n",
       "Ascents bef. 2004             int64\n",
       "Failed attempts bef. 2004     int64\n",
       "dtype: object"
      ]
     },
     "execution_count": 50,
     "metadata": {},
     "output_type": "execute_result"
    }
   ],
   "source": [
    "df.dtypes # Check the data types again"
   ]
  },
  {
   "cell_type": "code",
   "execution_count": null,
   "id": "afd4c6f5-ebdd-4bef-b098-322b03e89fdb",
   "metadata": {},
   "outputs": [],
   "source": []
  }
 ],
 "metadata": {
  "kernelspec": {
   "display_name": "Python [conda env:adsml] *",
   "language": "python",
   "name": "conda-env-adsml-py"
  },
  "language_info": {
   "codemirror_mode": {
    "name": "ipython",
    "version": 3
   },
   "file_extension": ".py",
   "mimetype": "text/x-python",
   "name": "python",
   "nbconvert_exporter": "python",
   "pygments_lexer": "ipython3",
   "version": "3.9.7"
  }
 },
 "nbformat": 4,
 "nbformat_minor": 5
}
